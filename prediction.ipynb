{
  "nbformat": 4,
  "nbformat_minor": 0,
  "metadata": {
    "colab": {
      "name": "prediction.ipynb",
      "provenance": [],
      "collapsed_sections": []
    },
    "kernelspec": {
      "name": "python3",
      "display_name": "Python 3"
    }
  },
  "cells": [
    {
      "cell_type": "code",
      "metadata": {
        "id": "09O2pdAsVCyT"
      },
      "source": [
        "import pandas as pd\n",
        "import numpy  as np"
      ],
      "execution_count": null,
      "outputs": []
    },
    {
      "cell_type": "code",
      "metadata": {
        "id": "LYRcNxde4G96",
        "colab": {
          "base_uri": "https://localhost:8080/",
          "height": 254
        },
        "outputId": "48db3896-c148-4a71-b72d-c069022e7ab3"
      },
      "source": [
        "from google.colab import drive ; drive.mount(\"/content/drive\")\n",
        "df = pd.read_csv(\"/content/drive/My Drive/Dataset/TubesDSC/train.csv\")\n",
        "df.head()"
      ],
      "execution_count": null,
      "outputs": [
        {
          "output_type": "stream",
          "text": [
            "Mounted at /content/drive\n"
          ],
          "name": "stdout"
        },
        {
          "output_type": "execute_result",
          "data": {
            "text/html": [
              "<div>\n",
              "<style scoped>\n",
              "    .dataframe tbody tr th:only-of-type {\n",
              "        vertical-align: middle;\n",
              "    }\n",
              "\n",
              "    .dataframe tbody tr th {\n",
              "        vertical-align: top;\n",
              "    }\n",
              "\n",
              "    .dataframe thead th {\n",
              "        text-align: right;\n",
              "    }\n",
              "</style>\n",
              "<table border=\"1\" class=\"dataframe\">\n",
              "  <thead>\n",
              "    <tr style=\"text-align: right;\">\n",
              "      <th></th>\n",
              "      <th>id_pasien</th>\n",
              "      <th>jenis_kelamin</th>\n",
              "      <th>umur</th>\n",
              "      <th>hipertensi</th>\n",
              "      <th>penyakit_jantung</th>\n",
              "      <th>sudah_menikah</th>\n",
              "      <th>jenis_pekerjaan</th>\n",
              "      <th>jenis_tempat_tinggal</th>\n",
              "      <th>rata2_level_glukosa</th>\n",
              "      <th>bmi</th>\n",
              "      <th>merokok</th>\n",
              "      <th>stroke</th>\n",
              "    </tr>\n",
              "  </thead>\n",
              "  <tbody>\n",
              "    <tr>\n",
              "      <th>0</th>\n",
              "      <td>100000</td>\n",
              "      <td>Laki-laki</td>\n",
              "      <td>43</td>\n",
              "      <td>tidak</td>\n",
              "      <td>tidak</td>\n",
              "      <td>sudah</td>\n",
              "      <td>swasta</td>\n",
              "      <td>Pedesaan</td>\n",
              "      <td>96.39</td>\n",
              "      <td>26.1</td>\n",
              "      <td>mantan perokok</td>\n",
              "      <td>0</td>\n",
              "    </tr>\n",
              "    <tr>\n",
              "      <th>1</th>\n",
              "      <td>100001</td>\n",
              "      <td>Perempuan</td>\n",
              "      <td>58</td>\n",
              "      <td>tidak</td>\n",
              "      <td>tidak</td>\n",
              "      <td>sudah</td>\n",
              "      <td>swasta</td>\n",
              "      <td>Pedesaan</td>\n",
              "      <td>114.07</td>\n",
              "      <td>21.2</td>\n",
              "      <td>tidak</td>\n",
              "      <td>0</td>\n",
              "    </tr>\n",
              "    <tr>\n",
              "      <th>2</th>\n",
              "      <td>100002</td>\n",
              "      <td>Laki-laki</td>\n",
              "      <td>29</td>\n",
              "      <td>tidak</td>\n",
              "      <td>tidak</td>\n",
              "      <td>belum</td>\n",
              "      <td>swasta</td>\n",
              "      <td>Pedesaan</td>\n",
              "      <td>118.96</td>\n",
              "      <td>29.7</td>\n",
              "      <td>tidak</td>\n",
              "      <td>0</td>\n",
              "    </tr>\n",
              "    <tr>\n",
              "      <th>3</th>\n",
              "      <td>100003</td>\n",
              "      <td>Laki-laki</td>\n",
              "      <td>54</td>\n",
              "      <td>tidak</td>\n",
              "      <td>tidak</td>\n",
              "      <td>sudah</td>\n",
              "      <td>Wirausaha</td>\n",
              "      <td>Perkotaan</td>\n",
              "      <td>73.01</td>\n",
              "      <td>27.7</td>\n",
              "      <td>tidak</td>\n",
              "      <td>0</td>\n",
              "    </tr>\n",
              "    <tr>\n",
              "      <th>4</th>\n",
              "      <td>100004</td>\n",
              "      <td>Laki-laki</td>\n",
              "      <td>78</td>\n",
              "      <td>ya</td>\n",
              "      <td>ya</td>\n",
              "      <td>sudah</td>\n",
              "      <td>Wirausaha</td>\n",
              "      <td>Perkotaan</td>\n",
              "      <td>243.82</td>\n",
              "      <td>36.3</td>\n",
              "      <td>mantan perokok</td>\n",
              "      <td>0</td>\n",
              "    </tr>\n",
              "  </tbody>\n",
              "</table>\n",
              "</div>"
            ],
            "text/plain": [
              "   id_pasien jenis_kelamin  umur  ...   bmi         merokok stroke\n",
              "0     100000     Laki-laki    43  ...  26.1  mantan perokok      0\n",
              "1     100001     Perempuan    58  ...  21.2           tidak      0\n",
              "2     100002     Laki-laki    29  ...  29.7           tidak      0\n",
              "3     100003     Laki-laki    54  ...  27.7           tidak      0\n",
              "4     100004     Laki-laki    78  ...  36.3  mantan perokok      0\n",
              "\n",
              "[5 rows x 12 columns]"
            ]
          },
          "metadata": {
            "tags": []
          },
          "execution_count": 2
        }
      ]
    },
    {
      "cell_type": "code",
      "metadata": {
        "id": "o1Q3YRvLxkYw",
        "colab": {
          "base_uri": "https://localhost:8080/"
        },
        "outputId": "2adedd06-b8f4-407e-a2df-b62d99006223"
      },
      "source": [
        "df.info()"
      ],
      "execution_count": null,
      "outputs": [
        {
          "output_type": "stream",
          "text": [
            "<class 'pandas.core.frame.DataFrame'>\n",
            "RangeIndex: 28075 entries, 0 to 28074\n",
            "Data columns (total 12 columns):\n",
            " #   Column                Non-Null Count  Dtype  \n",
            "---  ------                --------------  -----  \n",
            " 0   id_pasien             28075 non-null  int64  \n",
            " 1   jenis_kelamin         28075 non-null  object \n",
            " 2   umur                  28075 non-null  int64  \n",
            " 3   hipertensi            28075 non-null  object \n",
            " 4   penyakit_jantung      28075 non-null  object \n",
            " 5   sudah_menikah         28075 non-null  object \n",
            " 6   jenis_pekerjaan       28075 non-null  object \n",
            " 7   jenis_tempat_tinggal  28075 non-null  object \n",
            " 8   rata2_level_glukosa   28075 non-null  float64\n",
            " 9   bmi                   28075 non-null  float64\n",
            " 10  merokok               28075 non-null  object \n",
            " 11  stroke                28075 non-null  int64  \n",
            "dtypes: float64(2), int64(3), object(7)\n",
            "memory usage: 2.6+ MB\n"
          ],
          "name": "stdout"
        }
      ]
    },
    {
      "cell_type": "code",
      "metadata": {
        "id": "ai9H3IqNxkjR",
        "colab": {
          "base_uri": "https://localhost:8080/",
          "height": 417
        },
        "outputId": "335d827a-37ab-4501-d384-857e3b8cfc8d"
      },
      "source": [
        "df.describe(include='all').T"
      ],
      "execution_count": null,
      "outputs": [
        {
          "output_type": "execute_result",
          "data": {
            "text/html": [
              "<div>\n",
              "<style scoped>\n",
              "    .dataframe tbody tr th:only-of-type {\n",
              "        vertical-align: middle;\n",
              "    }\n",
              "\n",
              "    .dataframe tbody tr th {\n",
              "        vertical-align: top;\n",
              "    }\n",
              "\n",
              "    .dataframe thead th {\n",
              "        text-align: right;\n",
              "    }\n",
              "</style>\n",
              "<table border=\"1\" class=\"dataframe\">\n",
              "  <thead>\n",
              "    <tr style=\"text-align: right;\">\n",
              "      <th></th>\n",
              "      <th>count</th>\n",
              "      <th>unique</th>\n",
              "      <th>top</th>\n",
              "      <th>freq</th>\n",
              "      <th>mean</th>\n",
              "      <th>std</th>\n",
              "      <th>min</th>\n",
              "      <th>25%</th>\n",
              "      <th>50%</th>\n",
              "      <th>75%</th>\n",
              "      <th>max</th>\n",
              "    </tr>\n",
              "  </thead>\n",
              "  <tbody>\n",
              "    <tr>\n",
              "      <th>id_pasien</th>\n",
              "      <td>28075</td>\n",
              "      <td>NaN</td>\n",
              "      <td>NaN</td>\n",
              "      <td>NaN</td>\n",
              "      <td>114037</td>\n",
              "      <td>8104.7</td>\n",
              "      <td>100000</td>\n",
              "      <td>107018</td>\n",
              "      <td>114037</td>\n",
              "      <td>121056</td>\n",
              "      <td>128074</td>\n",
              "    </tr>\n",
              "    <tr>\n",
              "      <th>jenis_kelamin</th>\n",
              "      <td>28075</td>\n",
              "      <td>2</td>\n",
              "      <td>Perempuan</td>\n",
              "      <td>17232</td>\n",
              "      <td>NaN</td>\n",
              "      <td>NaN</td>\n",
              "      <td>NaN</td>\n",
              "      <td>NaN</td>\n",
              "      <td>NaN</td>\n",
              "      <td>NaN</td>\n",
              "      <td>NaN</td>\n",
              "    </tr>\n",
              "    <tr>\n",
              "      <th>umur</th>\n",
              "      <td>28075</td>\n",
              "      <td>NaN</td>\n",
              "      <td>NaN</td>\n",
              "      <td>NaN</td>\n",
              "      <td>47.5761</td>\n",
              "      <td>18.7064</td>\n",
              "      <td>10</td>\n",
              "      <td>32</td>\n",
              "      <td>48</td>\n",
              "      <td>62</td>\n",
              "      <td>82</td>\n",
              "    </tr>\n",
              "    <tr>\n",
              "      <th>hipertensi</th>\n",
              "      <td>28075</td>\n",
              "      <td>2</td>\n",
              "      <td>tidak</td>\n",
              "      <td>24972</td>\n",
              "      <td>NaN</td>\n",
              "      <td>NaN</td>\n",
              "      <td>NaN</td>\n",
              "      <td>NaN</td>\n",
              "      <td>NaN</td>\n",
              "      <td>NaN</td>\n",
              "      <td>NaN</td>\n",
              "    </tr>\n",
              "    <tr>\n",
              "      <th>penyakit_jantung</th>\n",
              "      <td>28075</td>\n",
              "      <td>2</td>\n",
              "      <td>tidak</td>\n",
              "      <td>26628</td>\n",
              "      <td>NaN</td>\n",
              "      <td>NaN</td>\n",
              "      <td>NaN</td>\n",
              "      <td>NaN</td>\n",
              "      <td>NaN</td>\n",
              "      <td>NaN</td>\n",
              "      <td>NaN</td>\n",
              "    </tr>\n",
              "    <tr>\n",
              "      <th>sudah_menikah</th>\n",
              "      <td>28075</td>\n",
              "      <td>2</td>\n",
              "      <td>sudah</td>\n",
              "      <td>20937</td>\n",
              "      <td>NaN</td>\n",
              "      <td>NaN</td>\n",
              "      <td>NaN</td>\n",
              "      <td>NaN</td>\n",
              "      <td>NaN</td>\n",
              "      <td>NaN</td>\n",
              "      <td>NaN</td>\n",
              "    </tr>\n",
              "    <tr>\n",
              "      <th>jenis_pekerjaan</th>\n",
              "      <td>28075</td>\n",
              "      <td>4</td>\n",
              "      <td>swasta</td>\n",
              "      <td>18311</td>\n",
              "      <td>NaN</td>\n",
              "      <td>NaN</td>\n",
              "      <td>NaN</td>\n",
              "      <td>NaN</td>\n",
              "      <td>NaN</td>\n",
              "      <td>NaN</td>\n",
              "      <td>NaN</td>\n",
              "    </tr>\n",
              "    <tr>\n",
              "      <th>jenis_tempat_tinggal</th>\n",
              "      <td>28075</td>\n",
              "      <td>2</td>\n",
              "      <td>Perkotaan</td>\n",
              "      <td>14084</td>\n",
              "      <td>NaN</td>\n",
              "      <td>NaN</td>\n",
              "      <td>NaN</td>\n",
              "      <td>NaN</td>\n",
              "      <td>NaN</td>\n",
              "      <td>NaN</td>\n",
              "      <td>NaN</td>\n",
              "    </tr>\n",
              "    <tr>\n",
              "      <th>rata2_level_glukosa</th>\n",
              "      <td>28075</td>\n",
              "      <td>NaN</td>\n",
              "      <td>NaN</td>\n",
              "      <td>NaN</td>\n",
              "      <td>106.313</td>\n",
              "      <td>45.1299</td>\n",
              "      <td>55.01</td>\n",
              "      <td>77.66</td>\n",
              "      <td>92.14</td>\n",
              "      <td>113.85</td>\n",
              "      <td>291.05</td>\n",
              "    </tr>\n",
              "    <tr>\n",
              "      <th>bmi</th>\n",
              "      <td>28075</td>\n",
              "      <td>NaN</td>\n",
              "      <td>NaN</td>\n",
              "      <td>NaN</td>\n",
              "      <td>30.0591</td>\n",
              "      <td>7.19986</td>\n",
              "      <td>10.1</td>\n",
              "      <td>25</td>\n",
              "      <td>28.9</td>\n",
              "      <td>33.9</td>\n",
              "      <td>92</td>\n",
              "    </tr>\n",
              "    <tr>\n",
              "      <th>merokok</th>\n",
              "      <td>28075</td>\n",
              "      <td>3</td>\n",
              "      <td>tidak</td>\n",
              "      <td>15255</td>\n",
              "      <td>NaN</td>\n",
              "      <td>NaN</td>\n",
              "      <td>NaN</td>\n",
              "      <td>NaN</td>\n",
              "      <td>NaN</td>\n",
              "      <td>NaN</td>\n",
              "      <td>NaN</td>\n",
              "    </tr>\n",
              "    <tr>\n",
              "      <th>stroke</th>\n",
              "      <td>28075</td>\n",
              "      <td>NaN</td>\n",
              "      <td>NaN</td>\n",
              "      <td>NaN</td>\n",
              "      <td>0.013642</td>\n",
              "      <td>0.116002</td>\n",
              "      <td>0</td>\n",
              "      <td>0</td>\n",
              "      <td>0</td>\n",
              "      <td>0</td>\n",
              "      <td>1</td>\n",
              "    </tr>\n",
              "  </tbody>\n",
              "</table>\n",
              "</div>"
            ],
            "text/plain": [
              "                      count unique        top  ...     50%     75%     max\n",
              "id_pasien             28075    NaN        NaN  ...  114037  121056  128074\n",
              "jenis_kelamin         28075      2  Perempuan  ...     NaN     NaN     NaN\n",
              "umur                  28075    NaN        NaN  ...      48      62      82\n",
              "hipertensi            28075      2      tidak  ...     NaN     NaN     NaN\n",
              "penyakit_jantung      28075      2      tidak  ...     NaN     NaN     NaN\n",
              "sudah_menikah         28075      2      sudah  ...     NaN     NaN     NaN\n",
              "jenis_pekerjaan       28075      4     swasta  ...     NaN     NaN     NaN\n",
              "jenis_tempat_tinggal  28075      2  Perkotaan  ...     NaN     NaN     NaN\n",
              "rata2_level_glukosa   28075    NaN        NaN  ...   92.14  113.85  291.05\n",
              "bmi                   28075    NaN        NaN  ...    28.9    33.9      92\n",
              "merokok               28075      3      tidak  ...     NaN     NaN     NaN\n",
              "stroke                28075    NaN        NaN  ...       0       0       1\n",
              "\n",
              "[12 rows x 11 columns]"
            ]
          },
          "metadata": {
            "tags": []
          },
          "execution_count": 4
        }
      ]
    },
    {
      "cell_type": "code",
      "metadata": {
        "id": "JW1rr_eMxkoP",
        "colab": {
          "base_uri": "https://localhost:8080/",
          "height": 49
        },
        "outputId": "9b62c878-917e-4a89-f9e7-24609355cd00"
      },
      "source": [
        "df.loc[df.isnull().any(axis=1)]"
      ],
      "execution_count": null,
      "outputs": [
        {
          "output_type": "execute_result",
          "data": {
            "text/html": [
              "<div>\n",
              "<style scoped>\n",
              "    .dataframe tbody tr th:only-of-type {\n",
              "        vertical-align: middle;\n",
              "    }\n",
              "\n",
              "    .dataframe tbody tr th {\n",
              "        vertical-align: top;\n",
              "    }\n",
              "\n",
              "    .dataframe thead th {\n",
              "        text-align: right;\n",
              "    }\n",
              "</style>\n",
              "<table border=\"1\" class=\"dataframe\">\n",
              "  <thead>\n",
              "    <tr style=\"text-align: right;\">\n",
              "      <th></th>\n",
              "      <th>id_pasien</th>\n",
              "      <th>jenis_kelamin</th>\n",
              "      <th>umur</th>\n",
              "      <th>hipertensi</th>\n",
              "      <th>penyakit_jantung</th>\n",
              "      <th>sudah_menikah</th>\n",
              "      <th>jenis_pekerjaan</th>\n",
              "      <th>jenis_tempat_tinggal</th>\n",
              "      <th>rata2_level_glukosa</th>\n",
              "      <th>bmi</th>\n",
              "      <th>merokok</th>\n",
              "      <th>stroke</th>\n",
              "    </tr>\n",
              "  </thead>\n",
              "  <tbody>\n",
              "  </tbody>\n",
              "</table>\n",
              "</div>"
            ],
            "text/plain": [
              "Empty DataFrame\n",
              "Columns: [id_pasien, jenis_kelamin, umur, hipertensi, penyakit_jantung, sudah_menikah, jenis_pekerjaan, jenis_tempat_tinggal, rata2_level_glukosa, bmi, merokok, stroke]\n",
              "Index: []"
            ]
          },
          "metadata": {
            "tags": []
          },
          "execution_count": 5
        }
      ]
    },
    {
      "cell_type": "code",
      "metadata": {
        "id": "Ze6kWK3-xkrJ",
        "colab": {
          "base_uri": "https://localhost:8080/",
          "height": 49
        },
        "outputId": "08861121-73ec-4794-91a5-35a5a48c864c"
      },
      "source": [
        "df.loc[df.duplicated()]"
      ],
      "execution_count": null,
      "outputs": [
        {
          "output_type": "execute_result",
          "data": {
            "text/html": [
              "<div>\n",
              "<style scoped>\n",
              "    .dataframe tbody tr th:only-of-type {\n",
              "        vertical-align: middle;\n",
              "    }\n",
              "\n",
              "    .dataframe tbody tr th {\n",
              "        vertical-align: top;\n",
              "    }\n",
              "\n",
              "    .dataframe thead th {\n",
              "        text-align: right;\n",
              "    }\n",
              "</style>\n",
              "<table border=\"1\" class=\"dataframe\">\n",
              "  <thead>\n",
              "    <tr style=\"text-align: right;\">\n",
              "      <th></th>\n",
              "      <th>id_pasien</th>\n",
              "      <th>jenis_kelamin</th>\n",
              "      <th>umur</th>\n",
              "      <th>hipertensi</th>\n",
              "      <th>penyakit_jantung</th>\n",
              "      <th>sudah_menikah</th>\n",
              "      <th>jenis_pekerjaan</th>\n",
              "      <th>jenis_tempat_tinggal</th>\n",
              "      <th>rata2_level_glukosa</th>\n",
              "      <th>bmi</th>\n",
              "      <th>merokok</th>\n",
              "      <th>stroke</th>\n",
              "    </tr>\n",
              "  </thead>\n",
              "  <tbody>\n",
              "  </tbody>\n",
              "</table>\n",
              "</div>"
            ],
            "text/plain": [
              "Empty DataFrame\n",
              "Columns: [id_pasien, jenis_kelamin, umur, hipertensi, penyakit_jantung, sudah_menikah, jenis_pekerjaan, jenis_tempat_tinggal, rata2_level_glukosa, bmi, merokok, stroke]\n",
              "Index: []"
            ]
          },
          "metadata": {
            "tags": []
          },
          "execution_count": 6
        }
      ]
    },
    {
      "cell_type": "code",
      "metadata": {
        "id": "gvnW5CYkxkuA",
        "colab": {
          "base_uri": "https://localhost:8080/"
        },
        "outputId": "7e6edd96-ef19-4b6c-92d8-5ec2d6f3528a"
      },
      "source": [
        "df['stroke'].value_counts(normalize=True)"
      ],
      "execution_count": null,
      "outputs": [
        {
          "output_type": "execute_result",
          "data": {
            "text/plain": [
              "0    0.986358\n",
              "1    0.013642\n",
              "Name: stroke, dtype: float64"
            ]
          },
          "metadata": {
            "tags": []
          },
          "execution_count": 7
        }
      ]
    },
    {
      "cell_type": "code",
      "metadata": {
        "id": "fJfzCUVq4S7c",
        "colab": {
          "base_uri": "https://localhost:8080/",
          "height": 202
        },
        "outputId": "8761997a-71b9-43f5-cf4b-ad1516460a45"
      },
      "source": [
        "test = pd.read_csv(\"/content/drive/My Drive/Dataset/TubesDSC/data_test.csv\")\n",
        "test.head()"
      ],
      "execution_count": null,
      "outputs": [
        {
          "output_type": "execute_result",
          "data": {
            "text/html": [
              "<div>\n",
              "<style scoped>\n",
              "    .dataframe tbody tr th:only-of-type {\n",
              "        vertical-align: middle;\n",
              "    }\n",
              "\n",
              "    .dataframe tbody tr th {\n",
              "        vertical-align: top;\n",
              "    }\n",
              "\n",
              "    .dataframe thead th {\n",
              "        text-align: right;\n",
              "    }\n",
              "</style>\n",
              "<table border=\"1\" class=\"dataframe\">\n",
              "  <thead>\n",
              "    <tr style=\"text-align: right;\">\n",
              "      <th></th>\n",
              "      <th>id_pasien</th>\n",
              "      <th>jenis_kelamin</th>\n",
              "      <th>umur</th>\n",
              "      <th>hipertensi</th>\n",
              "      <th>penyakit_jantung</th>\n",
              "      <th>sudah_menikah</th>\n",
              "      <th>jenis_pekerjaan</th>\n",
              "      <th>jenis_tempat_tinggal</th>\n",
              "      <th>rata2_level_glukosa</th>\n",
              "      <th>bmi</th>\n",
              "      <th>merokok</th>\n",
              "    </tr>\n",
              "  </thead>\n",
              "  <tbody>\n",
              "    <tr>\n",
              "      <th>0</th>\n",
              "      <td>2000</td>\n",
              "      <td>Laki-laki</td>\n",
              "      <td>24</td>\n",
              "      <td>tidak</td>\n",
              "      <td>tidak</td>\n",
              "      <td>belum</td>\n",
              "      <td>belum bekerja</td>\n",
              "      <td>Perkotaan</td>\n",
              "      <td>83.45</td>\n",
              "      <td>25.3</td>\n",
              "      <td>tidak</td>\n",
              "    </tr>\n",
              "    <tr>\n",
              "      <th>1</th>\n",
              "      <td>2001</td>\n",
              "      <td>Perempuan</td>\n",
              "      <td>81</td>\n",
              "      <td>tidak</td>\n",
              "      <td>tidak</td>\n",
              "      <td>sudah</td>\n",
              "      <td>swasta</td>\n",
              "      <td>Perkotaan</td>\n",
              "      <td>127.35</td>\n",
              "      <td>35.6</td>\n",
              "      <td>mantan perokok</td>\n",
              "    </tr>\n",
              "    <tr>\n",
              "      <th>2</th>\n",
              "      <td>2002</td>\n",
              "      <td>Laki-laki</td>\n",
              "      <td>41</td>\n",
              "      <td>tidak</td>\n",
              "      <td>tidak</td>\n",
              "      <td>sudah</td>\n",
              "      <td>PNS</td>\n",
              "      <td>Pedesaan</td>\n",
              "      <td>65.00</td>\n",
              "      <td>21.0</td>\n",
              "      <td>perokok aktif</td>\n",
              "    </tr>\n",
              "    <tr>\n",
              "      <th>3</th>\n",
              "      <td>2003</td>\n",
              "      <td>Laki-laki</td>\n",
              "      <td>30</td>\n",
              "      <td>tidak</td>\n",
              "      <td>tidak</td>\n",
              "      <td>sudah</td>\n",
              "      <td>Wirausaha</td>\n",
              "      <td>Perkotaan</td>\n",
              "      <td>88.30</td>\n",
              "      <td>32.0</td>\n",
              "      <td>tidak</td>\n",
              "    </tr>\n",
              "    <tr>\n",
              "      <th>4</th>\n",
              "      <td>2004</td>\n",
              "      <td>Laki-laki</td>\n",
              "      <td>50</td>\n",
              "      <td>ya</td>\n",
              "      <td>tidak</td>\n",
              "      <td>sudah</td>\n",
              "      <td>Wirausaha</td>\n",
              "      <td>Perkotaan</td>\n",
              "      <td>63.15</td>\n",
              "      <td>25.1</td>\n",
              "      <td>tidak</td>\n",
              "    </tr>\n",
              "  </tbody>\n",
              "</table>\n",
              "</div>"
            ],
            "text/plain": [
              "   id_pasien jenis_kelamin  umur  ... rata2_level_glukosa   bmi         merokok\n",
              "0       2000     Laki-laki    24  ...               83.45  25.3           tidak\n",
              "1       2001     Perempuan    81  ...              127.35  35.6  mantan perokok\n",
              "2       2002     Laki-laki    41  ...               65.00  21.0   perokok aktif\n",
              "3       2003     Laki-laki    30  ...               88.30  32.0           tidak\n",
              "4       2004     Laki-laki    50  ...               63.15  25.1           tidak\n",
              "\n",
              "[5 rows x 11 columns]"
            ]
          },
          "metadata": {
            "tags": []
          },
          "execution_count": 8
        }
      ]
    },
    {
      "cell_type": "code",
      "metadata": {
        "id": "tLCESBiEX2II",
        "colab": {
          "base_uri": "https://localhost:8080/"
        },
        "outputId": "bc45db82-fe0a-4bf3-db65-4cbd831509d1"
      },
      "source": [
        "df.isna().sum()"
      ],
      "execution_count": null,
      "outputs": [
        {
          "output_type": "execute_result",
          "data": {
            "text/plain": [
              "id_pasien               0\n",
              "jenis_kelamin           0\n",
              "umur                    0\n",
              "hipertensi              0\n",
              "penyakit_jantung        0\n",
              "sudah_menikah           0\n",
              "jenis_pekerjaan         0\n",
              "jenis_tempat_tinggal    0\n",
              "rata2_level_glukosa     0\n",
              "bmi                     0\n",
              "merokok                 0\n",
              "stroke                  0\n",
              "dtype: int64"
            ]
          },
          "metadata": {
            "tags": []
          },
          "execution_count": 9
        }
      ]
    },
    {
      "cell_type": "code",
      "metadata": {
        "id": "JQq3jB83YNdb",
        "colab": {
          "base_uri": "https://localhost:8080/",
          "height": 202
        },
        "outputId": "c1ed4d48-75a7-4d40-c5c9-ec064b27c7b8"
      },
      "source": [
        "df = df[[\"jenis_kelamin\",\"umur\",\"hipertensi\",\"penyakit_jantung\",\"sudah_menikah\",\"jenis_pekerjaan\",\"jenis_tempat_tinggal\",\"rata2_level_glukosa\",\"bmi\",\"merokok\",\"stroke\"]]\n",
        "df.head()"
      ],
      "execution_count": null,
      "outputs": [
        {
          "output_type": "execute_result",
          "data": {
            "text/html": [
              "<div>\n",
              "<style scoped>\n",
              "    .dataframe tbody tr th:only-of-type {\n",
              "        vertical-align: middle;\n",
              "    }\n",
              "\n",
              "    .dataframe tbody tr th {\n",
              "        vertical-align: top;\n",
              "    }\n",
              "\n",
              "    .dataframe thead th {\n",
              "        text-align: right;\n",
              "    }\n",
              "</style>\n",
              "<table border=\"1\" class=\"dataframe\">\n",
              "  <thead>\n",
              "    <tr style=\"text-align: right;\">\n",
              "      <th></th>\n",
              "      <th>jenis_kelamin</th>\n",
              "      <th>umur</th>\n",
              "      <th>hipertensi</th>\n",
              "      <th>penyakit_jantung</th>\n",
              "      <th>sudah_menikah</th>\n",
              "      <th>jenis_pekerjaan</th>\n",
              "      <th>jenis_tempat_tinggal</th>\n",
              "      <th>rata2_level_glukosa</th>\n",
              "      <th>bmi</th>\n",
              "      <th>merokok</th>\n",
              "      <th>stroke</th>\n",
              "    </tr>\n",
              "  </thead>\n",
              "  <tbody>\n",
              "    <tr>\n",
              "      <th>0</th>\n",
              "      <td>Laki-laki</td>\n",
              "      <td>43</td>\n",
              "      <td>tidak</td>\n",
              "      <td>tidak</td>\n",
              "      <td>sudah</td>\n",
              "      <td>swasta</td>\n",
              "      <td>Pedesaan</td>\n",
              "      <td>96.39</td>\n",
              "      <td>26.1</td>\n",
              "      <td>mantan perokok</td>\n",
              "      <td>0</td>\n",
              "    </tr>\n",
              "    <tr>\n",
              "      <th>1</th>\n",
              "      <td>Perempuan</td>\n",
              "      <td>58</td>\n",
              "      <td>tidak</td>\n",
              "      <td>tidak</td>\n",
              "      <td>sudah</td>\n",
              "      <td>swasta</td>\n",
              "      <td>Pedesaan</td>\n",
              "      <td>114.07</td>\n",
              "      <td>21.2</td>\n",
              "      <td>tidak</td>\n",
              "      <td>0</td>\n",
              "    </tr>\n",
              "    <tr>\n",
              "      <th>2</th>\n",
              "      <td>Laki-laki</td>\n",
              "      <td>29</td>\n",
              "      <td>tidak</td>\n",
              "      <td>tidak</td>\n",
              "      <td>belum</td>\n",
              "      <td>swasta</td>\n",
              "      <td>Pedesaan</td>\n",
              "      <td>118.96</td>\n",
              "      <td>29.7</td>\n",
              "      <td>tidak</td>\n",
              "      <td>0</td>\n",
              "    </tr>\n",
              "    <tr>\n",
              "      <th>3</th>\n",
              "      <td>Laki-laki</td>\n",
              "      <td>54</td>\n",
              "      <td>tidak</td>\n",
              "      <td>tidak</td>\n",
              "      <td>sudah</td>\n",
              "      <td>Wirausaha</td>\n",
              "      <td>Perkotaan</td>\n",
              "      <td>73.01</td>\n",
              "      <td>27.7</td>\n",
              "      <td>tidak</td>\n",
              "      <td>0</td>\n",
              "    </tr>\n",
              "    <tr>\n",
              "      <th>4</th>\n",
              "      <td>Laki-laki</td>\n",
              "      <td>78</td>\n",
              "      <td>ya</td>\n",
              "      <td>ya</td>\n",
              "      <td>sudah</td>\n",
              "      <td>Wirausaha</td>\n",
              "      <td>Perkotaan</td>\n",
              "      <td>243.82</td>\n",
              "      <td>36.3</td>\n",
              "      <td>mantan perokok</td>\n",
              "      <td>0</td>\n",
              "    </tr>\n",
              "  </tbody>\n",
              "</table>\n",
              "</div>"
            ],
            "text/plain": [
              "  jenis_kelamin  umur hipertensi  ...   bmi         merokok stroke\n",
              "0     Laki-laki    43      tidak  ...  26.1  mantan perokok      0\n",
              "1     Perempuan    58      tidak  ...  21.2           tidak      0\n",
              "2     Laki-laki    29      tidak  ...  29.7           tidak      0\n",
              "3     Laki-laki    54      tidak  ...  27.7           tidak      0\n",
              "4     Laki-laki    78         ya  ...  36.3  mantan perokok      0\n",
              "\n",
              "[5 rows x 11 columns]"
            ]
          },
          "metadata": {
            "tags": []
          },
          "execution_count": 10
        }
      ]
    },
    {
      "cell_type": "code",
      "metadata": {
        "id": "A7tZKGMfaXSY",
        "colab": {
          "base_uri": "https://localhost:8080/"
        },
        "outputId": "8a9916c1-51e4-4b45-901a-4d18048bb847"
      },
      "source": [
        "df[\"merokok\"].unique()"
      ],
      "execution_count": null,
      "outputs": [
        {
          "output_type": "execute_result",
          "data": {
            "text/plain": [
              "array(['mantan perokok', 'tidak', 'perokok aktif'], dtype=object)"
            ]
          },
          "metadata": {
            "tags": []
          },
          "execution_count": 11
        }
      ]
    },
    {
      "cell_type": "code",
      "metadata": {
        "id": "1hrDMCSoa_jk"
      },
      "source": [
        "df[\"hipertensi\"] = df[\"hipertensi\"].replace({\"tidak\":0,\"ya\":1})\n",
        "df[\"penyakit_jantung\"] = df[\"penyakit_jantung\"].replace({\"ya\":1,\"tidak\":0})\n",
        "df[\"sudah_menikah\"] = df[\"sudah_menikah\"].replace({\"sudah\":1,\"belum\":0})\n",
        "test[\"hipertensi\"] = test[\"hipertensi\"].replace({\"tidak\":0,\"ya\":1})\n",
        "test[\"penyakit_jantung\"] = test[\"penyakit_jantung\"].replace({\"ya\":1,\"tidak\":0})\n",
        "test[\"sudah_menikah\"] = test[\"sudah_menikah\"].replace({\"sudah\":1,\"belum\":0})"
      ],
      "execution_count": null,
      "outputs": []
    },
    {
      "cell_type": "code",
      "metadata": {
        "id": "ARTlWOv0bpKD"
      },
      "source": [
        "dummies = pd.get_dummies(df[[\"jenis_pekerjaan\"]])\n",
        "dummiesTest = pd.get_dummies(test[[\"jenis_pekerjaan\"]])"
      ],
      "execution_count": null,
      "outputs": []
    },
    {
      "cell_type": "code",
      "metadata": {
        "id": "HmE9Ip51puJt"
      },
      "source": [
        "dummies = pd.get_dummies(df[[\"jenis_kelamin\",\"jenis_pekerjaan\",\"jenis_tempat_tinggal\"]])\n",
        "dummiesTest = pd.get_dummies(test[[\"jenis_kelamin\",\"jenis_pekerjaan\",\"jenis_tempat_tinggal\"]])"
      ],
      "execution_count": null,
      "outputs": []
    },
    {
      "cell_type": "code",
      "metadata": {
        "id": "BMTh53dCyguv"
      },
      "source": [
        "df[dummies.columns] = dummies\n",
        "test[dummiesTest.columns] = dummiesTest\n",
        "df.drop([\"jenis_pekerjaan\"],axis=1,inplace=True)\n",
        "test.drop([\"jenis_pekerjaan\"],axis=1,inplace=True)"
      ],
      "execution_count": null,
      "outputs": []
    },
    {
      "cell_type": "code",
      "metadata": {
        "id": "adhq7nWxyEC8",
        "colab": {
          "base_uri": "https://localhost:8080/",
          "height": 274
        },
        "outputId": "1159f509-e893-43db-8ee7-7a1b02a0ad07"
      },
      "source": [
        "df.head()"
      ],
      "execution_count": null,
      "outputs": [
        {
          "output_type": "execute_result",
          "data": {
            "text/html": [
              "<div>\n",
              "<style scoped>\n",
              "    .dataframe tbody tr th:only-of-type {\n",
              "        vertical-align: middle;\n",
              "    }\n",
              "\n",
              "    .dataframe tbody tr th {\n",
              "        vertical-align: top;\n",
              "    }\n",
              "\n",
              "    .dataframe thead th {\n",
              "        text-align: right;\n",
              "    }\n",
              "</style>\n",
              "<table border=\"1\" class=\"dataframe\">\n",
              "  <thead>\n",
              "    <tr style=\"text-align: right;\">\n",
              "      <th></th>\n",
              "      <th>jenis_kelamin</th>\n",
              "      <th>umur</th>\n",
              "      <th>hipertensi</th>\n",
              "      <th>penyakit_jantung</th>\n",
              "      <th>sudah_menikah</th>\n",
              "      <th>jenis_tempat_tinggal</th>\n",
              "      <th>rata2_level_glukosa</th>\n",
              "      <th>bmi</th>\n",
              "      <th>merokok</th>\n",
              "      <th>stroke</th>\n",
              "      <th>jenis_kelamin_Laki-laki</th>\n",
              "      <th>jenis_kelamin_Perempuan</th>\n",
              "      <th>jenis_pekerjaan_PNS</th>\n",
              "      <th>jenis_pekerjaan_Wirausaha</th>\n",
              "      <th>jenis_pekerjaan_belum bekerja</th>\n",
              "      <th>jenis_pekerjaan_swasta</th>\n",
              "      <th>jenis_tempat_tinggal_Pedesaan</th>\n",
              "      <th>jenis_tempat_tinggal_Perkotaan</th>\n",
              "    </tr>\n",
              "  </thead>\n",
              "  <tbody>\n",
              "    <tr>\n",
              "      <th>0</th>\n",
              "      <td>Laki-laki</td>\n",
              "      <td>43</td>\n",
              "      <td>0</td>\n",
              "      <td>0</td>\n",
              "      <td>1</td>\n",
              "      <td>Pedesaan</td>\n",
              "      <td>96.39</td>\n",
              "      <td>26.1</td>\n",
              "      <td>mantan perokok</td>\n",
              "      <td>0</td>\n",
              "      <td>1</td>\n",
              "      <td>0</td>\n",
              "      <td>0</td>\n",
              "      <td>0</td>\n",
              "      <td>0</td>\n",
              "      <td>1</td>\n",
              "      <td>1</td>\n",
              "      <td>0</td>\n",
              "    </tr>\n",
              "    <tr>\n",
              "      <th>1</th>\n",
              "      <td>Perempuan</td>\n",
              "      <td>58</td>\n",
              "      <td>0</td>\n",
              "      <td>0</td>\n",
              "      <td>1</td>\n",
              "      <td>Pedesaan</td>\n",
              "      <td>114.07</td>\n",
              "      <td>21.2</td>\n",
              "      <td>tidak</td>\n",
              "      <td>0</td>\n",
              "      <td>0</td>\n",
              "      <td>1</td>\n",
              "      <td>0</td>\n",
              "      <td>0</td>\n",
              "      <td>0</td>\n",
              "      <td>1</td>\n",
              "      <td>1</td>\n",
              "      <td>0</td>\n",
              "    </tr>\n",
              "    <tr>\n",
              "      <th>2</th>\n",
              "      <td>Laki-laki</td>\n",
              "      <td>29</td>\n",
              "      <td>0</td>\n",
              "      <td>0</td>\n",
              "      <td>0</td>\n",
              "      <td>Pedesaan</td>\n",
              "      <td>118.96</td>\n",
              "      <td>29.7</td>\n",
              "      <td>tidak</td>\n",
              "      <td>0</td>\n",
              "      <td>1</td>\n",
              "      <td>0</td>\n",
              "      <td>0</td>\n",
              "      <td>0</td>\n",
              "      <td>0</td>\n",
              "      <td>1</td>\n",
              "      <td>1</td>\n",
              "      <td>0</td>\n",
              "    </tr>\n",
              "    <tr>\n",
              "      <th>3</th>\n",
              "      <td>Laki-laki</td>\n",
              "      <td>54</td>\n",
              "      <td>0</td>\n",
              "      <td>0</td>\n",
              "      <td>1</td>\n",
              "      <td>Perkotaan</td>\n",
              "      <td>73.01</td>\n",
              "      <td>27.7</td>\n",
              "      <td>tidak</td>\n",
              "      <td>0</td>\n",
              "      <td>1</td>\n",
              "      <td>0</td>\n",
              "      <td>0</td>\n",
              "      <td>1</td>\n",
              "      <td>0</td>\n",
              "      <td>0</td>\n",
              "      <td>0</td>\n",
              "      <td>1</td>\n",
              "    </tr>\n",
              "    <tr>\n",
              "      <th>4</th>\n",
              "      <td>Laki-laki</td>\n",
              "      <td>78</td>\n",
              "      <td>1</td>\n",
              "      <td>1</td>\n",
              "      <td>1</td>\n",
              "      <td>Perkotaan</td>\n",
              "      <td>243.82</td>\n",
              "      <td>36.3</td>\n",
              "      <td>mantan perokok</td>\n",
              "      <td>0</td>\n",
              "      <td>1</td>\n",
              "      <td>0</td>\n",
              "      <td>0</td>\n",
              "      <td>1</td>\n",
              "      <td>0</td>\n",
              "      <td>0</td>\n",
              "      <td>0</td>\n",
              "      <td>1</td>\n",
              "    </tr>\n",
              "  </tbody>\n",
              "</table>\n",
              "</div>"
            ],
            "text/plain": [
              "  jenis_kelamin  ...  jenis_tempat_tinggal_Perkotaan\n",
              "0     Laki-laki  ...                               0\n",
              "1     Perempuan  ...                               0\n",
              "2     Laki-laki  ...                               0\n",
              "3     Laki-laki  ...                               1\n",
              "4     Laki-laki  ...                               1\n",
              "\n",
              "[5 rows x 18 columns]"
            ]
          },
          "metadata": {
            "tags": []
          },
          "execution_count": 16
        }
      ]
    },
    {
      "cell_type": "code",
      "metadata": {
        "id": "2JQb6ET9yEFq"
      },
      "source": [
        "dummies = pd.get_dummies(df[\"merokok\"],drop_first=True)\n",
        "dummiesTest = pd.get_dummies(test[\"merokok\"],drop_first=True)"
      ],
      "execution_count": null,
      "outputs": []
    },
    {
      "cell_type": "code",
      "metadata": {
        "id": "dfwFByGyyEIr"
      },
      "source": [
        "df[dummies.columns] = dummies\n",
        "test[dummiesTest.columns] = dummiesTest"
      ],
      "execution_count": null,
      "outputs": []
    },
    {
      "cell_type": "code",
      "metadata": {
        "id": "Wil4ai-LyELG"
      },
      "source": [
        "df.drop(\"merokok\",inplace=True,axis=1)\n",
        "test.drop(\"merokok\",inplace=True,axis=1)"
      ],
      "execution_count": null,
      "outputs": []
    },
    {
      "cell_type": "code",
      "metadata": {
        "id": "AWjxlyiAyENV",
        "colab": {
          "base_uri": "https://localhost:8080/",
          "height": 239
        },
        "outputId": "3b6b1b45-b17b-4fa9-d807-6702ca73f8d1"
      },
      "source": [
        "df.head()"
      ],
      "execution_count": null,
      "outputs": [
        {
          "output_type": "execute_result",
          "data": {
            "text/html": [
              "<div>\n",
              "<style scoped>\n",
              "    .dataframe tbody tr th:only-of-type {\n",
              "        vertical-align: middle;\n",
              "    }\n",
              "\n",
              "    .dataframe tbody tr th {\n",
              "        vertical-align: top;\n",
              "    }\n",
              "\n",
              "    .dataframe thead th {\n",
              "        text-align: right;\n",
              "    }\n",
              "</style>\n",
              "<table border=\"1\" class=\"dataframe\">\n",
              "  <thead>\n",
              "    <tr style=\"text-align: right;\">\n",
              "      <th></th>\n",
              "      <th>jenis_kelamin</th>\n",
              "      <th>umur</th>\n",
              "      <th>hipertensi</th>\n",
              "      <th>penyakit_jantung</th>\n",
              "      <th>sudah_menikah</th>\n",
              "      <th>jenis_tempat_tinggal</th>\n",
              "      <th>rata2_level_glukosa</th>\n",
              "      <th>bmi</th>\n",
              "      <th>stroke</th>\n",
              "      <th>jenis_kelamin_Laki-laki</th>\n",
              "      <th>jenis_kelamin_Perempuan</th>\n",
              "      <th>jenis_pekerjaan_PNS</th>\n",
              "      <th>jenis_pekerjaan_Wirausaha</th>\n",
              "      <th>jenis_pekerjaan_belum bekerja</th>\n",
              "      <th>jenis_pekerjaan_swasta</th>\n",
              "      <th>jenis_tempat_tinggal_Pedesaan</th>\n",
              "      <th>jenis_tempat_tinggal_Perkotaan</th>\n",
              "      <th>perokok aktif</th>\n",
              "      <th>tidak</th>\n",
              "    </tr>\n",
              "  </thead>\n",
              "  <tbody>\n",
              "    <tr>\n",
              "      <th>0</th>\n",
              "      <td>Laki-laki</td>\n",
              "      <td>43</td>\n",
              "      <td>0</td>\n",
              "      <td>0</td>\n",
              "      <td>1</td>\n",
              "      <td>Pedesaan</td>\n",
              "      <td>96.39</td>\n",
              "      <td>26.1</td>\n",
              "      <td>0</td>\n",
              "      <td>1</td>\n",
              "      <td>0</td>\n",
              "      <td>0</td>\n",
              "      <td>0</td>\n",
              "      <td>0</td>\n",
              "      <td>1</td>\n",
              "      <td>1</td>\n",
              "      <td>0</td>\n",
              "      <td>0</td>\n",
              "      <td>0</td>\n",
              "    </tr>\n",
              "    <tr>\n",
              "      <th>1</th>\n",
              "      <td>Perempuan</td>\n",
              "      <td>58</td>\n",
              "      <td>0</td>\n",
              "      <td>0</td>\n",
              "      <td>1</td>\n",
              "      <td>Pedesaan</td>\n",
              "      <td>114.07</td>\n",
              "      <td>21.2</td>\n",
              "      <td>0</td>\n",
              "      <td>0</td>\n",
              "      <td>1</td>\n",
              "      <td>0</td>\n",
              "      <td>0</td>\n",
              "      <td>0</td>\n",
              "      <td>1</td>\n",
              "      <td>1</td>\n",
              "      <td>0</td>\n",
              "      <td>0</td>\n",
              "      <td>1</td>\n",
              "    </tr>\n",
              "    <tr>\n",
              "      <th>2</th>\n",
              "      <td>Laki-laki</td>\n",
              "      <td>29</td>\n",
              "      <td>0</td>\n",
              "      <td>0</td>\n",
              "      <td>0</td>\n",
              "      <td>Pedesaan</td>\n",
              "      <td>118.96</td>\n",
              "      <td>29.7</td>\n",
              "      <td>0</td>\n",
              "      <td>1</td>\n",
              "      <td>0</td>\n",
              "      <td>0</td>\n",
              "      <td>0</td>\n",
              "      <td>0</td>\n",
              "      <td>1</td>\n",
              "      <td>1</td>\n",
              "      <td>0</td>\n",
              "      <td>0</td>\n",
              "      <td>1</td>\n",
              "    </tr>\n",
              "    <tr>\n",
              "      <th>3</th>\n",
              "      <td>Laki-laki</td>\n",
              "      <td>54</td>\n",
              "      <td>0</td>\n",
              "      <td>0</td>\n",
              "      <td>1</td>\n",
              "      <td>Perkotaan</td>\n",
              "      <td>73.01</td>\n",
              "      <td>27.7</td>\n",
              "      <td>0</td>\n",
              "      <td>1</td>\n",
              "      <td>0</td>\n",
              "      <td>0</td>\n",
              "      <td>1</td>\n",
              "      <td>0</td>\n",
              "      <td>0</td>\n",
              "      <td>0</td>\n",
              "      <td>1</td>\n",
              "      <td>0</td>\n",
              "      <td>1</td>\n",
              "    </tr>\n",
              "    <tr>\n",
              "      <th>4</th>\n",
              "      <td>Laki-laki</td>\n",
              "      <td>78</td>\n",
              "      <td>1</td>\n",
              "      <td>1</td>\n",
              "      <td>1</td>\n",
              "      <td>Perkotaan</td>\n",
              "      <td>243.82</td>\n",
              "      <td>36.3</td>\n",
              "      <td>0</td>\n",
              "      <td>1</td>\n",
              "      <td>0</td>\n",
              "      <td>0</td>\n",
              "      <td>1</td>\n",
              "      <td>0</td>\n",
              "      <td>0</td>\n",
              "      <td>0</td>\n",
              "      <td>1</td>\n",
              "      <td>0</td>\n",
              "      <td>0</td>\n",
              "    </tr>\n",
              "  </tbody>\n",
              "</table>\n",
              "</div>"
            ],
            "text/plain": [
              "  jenis_kelamin  umur  ...  perokok aktif  tidak\n",
              "0     Laki-laki    43  ...              0      0\n",
              "1     Perempuan    58  ...              0      1\n",
              "2     Laki-laki    29  ...              0      1\n",
              "3     Laki-laki    54  ...              0      1\n",
              "4     Laki-laki    78  ...              0      0\n",
              "\n",
              "[5 rows x 19 columns]"
            ]
          },
          "metadata": {
            "tags": []
          },
          "execution_count": 20
        }
      ]
    },
    {
      "cell_type": "code",
      "metadata": {
        "id": "zfaiLZO9yEUX"
      },
      "source": [
        "import tensorflow as tf\n",
        "AUTO = tf.data.experimental.AUTOTUNE\n",
        "import tensorflow_addons as tfa\n",
        "from tensorflow.keras.layers import Dense,Dropout\n",
        "from tensorflow.keras.models import Model\n",
        "from tensorflow.keras import Input\n",
        "from sklearn.preprocessing import MinMaxScaler"
      ],
      "execution_count": null,
      "outputs": []
    },
    {
      "cell_type": "code",
      "metadata": {
        "id": "fgxOWDfjyEWw",
        "colab": {
          "base_uri": "https://localhost:8080/"
        },
        "outputId": "06b38ae3-b067-4909-e078-56421402d982"
      },
      "source": [
        "StandardOBJ = MinMaxScaler()\n",
        "StandardFit = StandardOBJ.fit_transform(df[[\"rata2_level_glukosa\",\"bmi\"]])\n",
        "StandardFitTest = StandardOBJ.fit_transform(test[[\"rata2_level_glukosa\",\"bmi\"]])\n",
        "StandardFit"
      ],
      "execution_count": null,
      "outputs": [
        {
          "output_type": "execute_result",
          "data": {
            "text/plain": [
              "array([[0.17530927, 0.1953602 ],\n",
              "       [0.25021183, 0.13553114],\n",
              "       [0.27092866, 0.23931624],\n",
              "       ...,\n",
              "       [0.02563125, 0.22100122],\n",
              "       [0.22508897, 0.18315018],\n",
              "       [0.05965091, 0.22710623]])"
            ]
          },
          "metadata": {
            "tags": []
          },
          "execution_count": 22
        }
      ]
    },
    {
      "cell_type": "code",
      "metadata": {
        "id": "VdQM8r4TzChZ"
      },
      "source": [
        "df[\"rata2_level_glukosa\"] = StandardFit[:,0]\n",
        "df[\"bmi\"] = StandardFit[:,1]\n",
        "test[\"rata2_level_glukosa\"] = StandardFitTest[:,0]\n",
        "test[\"bmi\"] = StandardFitTest[:,1]"
      ],
      "execution_count": null,
      "outputs": []
    },
    {
      "cell_type": "code",
      "metadata": {
        "id": "W2f2dLBVzCpj"
      },
      "source": [
        "df.drop([\"jenis_kelamin\",\"jenis_tempat_tinggal\"],axis=1,inplace=True)\n",
        "test.drop([\"jenis_kelamin\",\"jenis_tempat_tinggal\"],axis=1,inplace=True)"
      ],
      "execution_count": null,
      "outputs": []
    },
    {
      "cell_type": "code",
      "metadata": {
        "id": "prf52WiqzCsV"
      },
      "source": [
        "dfcopy=df.copy()\n",
        "dfcopy2 = df.copy()"
      ],
      "execution_count": null,
      "outputs": []
    },
    {
      "cell_type": "code",
      "metadata": {
        "id": "dLLp4KGXzCwo",
        "colab": {
          "base_uri": "https://localhost:8080/",
          "height": 239
        },
        "outputId": "305a500f-31f8-4711-e20c-acc888608474"
      },
      "source": [
        "dfcopy = df[df[\"stroke\"] == 1]\n",
        "dfcopy2 = df[df[\"stroke\"]==0][:390]\n",
        "dfcopy2.head()"
      ],
      "execution_count": null,
      "outputs": [
        {
          "output_type": "execute_result",
          "data": {
            "text/html": [
              "<div>\n",
              "<style scoped>\n",
              "    .dataframe tbody tr th:only-of-type {\n",
              "        vertical-align: middle;\n",
              "    }\n",
              "\n",
              "    .dataframe tbody tr th {\n",
              "        vertical-align: top;\n",
              "    }\n",
              "\n",
              "    .dataframe thead th {\n",
              "        text-align: right;\n",
              "    }\n",
              "</style>\n",
              "<table border=\"1\" class=\"dataframe\">\n",
              "  <thead>\n",
              "    <tr style=\"text-align: right;\">\n",
              "      <th></th>\n",
              "      <th>umur</th>\n",
              "      <th>hipertensi</th>\n",
              "      <th>penyakit_jantung</th>\n",
              "      <th>sudah_menikah</th>\n",
              "      <th>rata2_level_glukosa</th>\n",
              "      <th>bmi</th>\n",
              "      <th>stroke</th>\n",
              "      <th>jenis_kelamin_Laki-laki</th>\n",
              "      <th>jenis_kelamin_Perempuan</th>\n",
              "      <th>jenis_pekerjaan_PNS</th>\n",
              "      <th>jenis_pekerjaan_Wirausaha</th>\n",
              "      <th>jenis_pekerjaan_belum bekerja</th>\n",
              "      <th>jenis_pekerjaan_swasta</th>\n",
              "      <th>jenis_tempat_tinggal_Pedesaan</th>\n",
              "      <th>jenis_tempat_tinggal_Perkotaan</th>\n",
              "      <th>perokok aktif</th>\n",
              "      <th>tidak</th>\n",
              "    </tr>\n",
              "  </thead>\n",
              "  <tbody>\n",
              "    <tr>\n",
              "      <th>0</th>\n",
              "      <td>43</td>\n",
              "      <td>0</td>\n",
              "      <td>0</td>\n",
              "      <td>1</td>\n",
              "      <td>0.175309</td>\n",
              "      <td>0.195360</td>\n",
              "      <td>0</td>\n",
              "      <td>1</td>\n",
              "      <td>0</td>\n",
              "      <td>0</td>\n",
              "      <td>0</td>\n",
              "      <td>0</td>\n",
              "      <td>1</td>\n",
              "      <td>1</td>\n",
              "      <td>0</td>\n",
              "      <td>0</td>\n",
              "      <td>0</td>\n",
              "    </tr>\n",
              "    <tr>\n",
              "      <th>1</th>\n",
              "      <td>58</td>\n",
              "      <td>0</td>\n",
              "      <td>0</td>\n",
              "      <td>1</td>\n",
              "      <td>0.250212</td>\n",
              "      <td>0.135531</td>\n",
              "      <td>0</td>\n",
              "      <td>0</td>\n",
              "      <td>1</td>\n",
              "      <td>0</td>\n",
              "      <td>0</td>\n",
              "      <td>0</td>\n",
              "      <td>1</td>\n",
              "      <td>1</td>\n",
              "      <td>0</td>\n",
              "      <td>0</td>\n",
              "      <td>1</td>\n",
              "    </tr>\n",
              "    <tr>\n",
              "      <th>2</th>\n",
              "      <td>29</td>\n",
              "      <td>0</td>\n",
              "      <td>0</td>\n",
              "      <td>0</td>\n",
              "      <td>0.270929</td>\n",
              "      <td>0.239316</td>\n",
              "      <td>0</td>\n",
              "      <td>1</td>\n",
              "      <td>0</td>\n",
              "      <td>0</td>\n",
              "      <td>0</td>\n",
              "      <td>0</td>\n",
              "      <td>1</td>\n",
              "      <td>1</td>\n",
              "      <td>0</td>\n",
              "      <td>0</td>\n",
              "      <td>1</td>\n",
              "    </tr>\n",
              "    <tr>\n",
              "      <th>3</th>\n",
              "      <td>54</td>\n",
              "      <td>0</td>\n",
              "      <td>0</td>\n",
              "      <td>1</td>\n",
              "      <td>0.076258</td>\n",
              "      <td>0.214896</td>\n",
              "      <td>0</td>\n",
              "      <td>1</td>\n",
              "      <td>0</td>\n",
              "      <td>0</td>\n",
              "      <td>1</td>\n",
              "      <td>0</td>\n",
              "      <td>0</td>\n",
              "      <td>0</td>\n",
              "      <td>1</td>\n",
              "      <td>0</td>\n",
              "      <td>1</td>\n",
              "    </tr>\n",
              "    <tr>\n",
              "      <th>4</th>\n",
              "      <td>78</td>\n",
              "      <td>1</td>\n",
              "      <td>1</td>\n",
              "      <td>1</td>\n",
              "      <td>0.799907</td>\n",
              "      <td>0.319902</td>\n",
              "      <td>0</td>\n",
              "      <td>1</td>\n",
              "      <td>0</td>\n",
              "      <td>0</td>\n",
              "      <td>1</td>\n",
              "      <td>0</td>\n",
              "      <td>0</td>\n",
              "      <td>0</td>\n",
              "      <td>1</td>\n",
              "      <td>0</td>\n",
              "      <td>0</td>\n",
              "    </tr>\n",
              "  </tbody>\n",
              "</table>\n",
              "</div>"
            ],
            "text/plain": [
              "   umur  hipertensi  ...  perokok aktif  tidak\n",
              "0    43           0  ...              0      0\n",
              "1    58           0  ...              0      1\n",
              "2    29           0  ...              0      1\n",
              "3    54           0  ...              0      1\n",
              "4    78           1  ...              0      0\n",
              "\n",
              "[5 rows x 17 columns]"
            ]
          },
          "metadata": {
            "tags": []
          },
          "execution_count": 26
        }
      ]
    },
    {
      "cell_type": "code",
      "metadata": {
        "id": "H3RtMcOHzLVk",
        "colab": {
          "base_uri": "https://localhost:8080/"
        },
        "outputId": "7bd505b4-272d-48ac-95cf-399f2430f03d"
      },
      "source": [
        "finaldf = pd.concat([dfcopy,dfcopy2],axis=0)\n",
        "finaldf.shape"
      ],
      "execution_count": null,
      "outputs": [
        {
          "output_type": "execute_result",
          "data": {
            "text/plain": [
              "(773, 17)"
            ]
          },
          "metadata": {
            "tags": []
          },
          "execution_count": 27
        }
      ]
    },
    {
      "cell_type": "code",
      "metadata": {
        "id": "0txZLyL6zLai",
        "colab": {
          "base_uri": "https://localhost:8080/"
        },
        "outputId": "ce1fcc06-f1d3-4c60-dbaa-f6a5466fc93b"
      },
      "source": [
        "from tensorflow.keras.utils import to_categorical\n",
        "X = finaldf.drop(\"stroke\",axis=1)\n",
        "Y = finaldf[\"stroke\"]\n",
        "Y = Y.astype(\"float64\")\n",
        "X.shape, Y.shape"
      ],
      "execution_count": null,
      "outputs": [
        {
          "output_type": "execute_result",
          "data": {
            "text/plain": [
              "((773, 16), (773,))"
            ]
          },
          "metadata": {
            "tags": []
          },
          "execution_count": 28
        }
      ]
    },
    {
      "cell_type": "code",
      "metadata": {
        "id": "UAO0lgRozLd8",
        "colab": {
          "base_uri": "https://localhost:8080/",
          "height": 239
        },
        "outputId": "3779452e-8052-431c-e265-11ff6fd5e403"
      },
      "source": [
        "X.head()"
      ],
      "execution_count": null,
      "outputs": [
        {
          "output_type": "execute_result",
          "data": {
            "text/html": [
              "<div>\n",
              "<style scoped>\n",
              "    .dataframe tbody tr th:only-of-type {\n",
              "        vertical-align: middle;\n",
              "    }\n",
              "\n",
              "    .dataframe tbody tr th {\n",
              "        vertical-align: top;\n",
              "    }\n",
              "\n",
              "    .dataframe thead th {\n",
              "        text-align: right;\n",
              "    }\n",
              "</style>\n",
              "<table border=\"1\" class=\"dataframe\">\n",
              "  <thead>\n",
              "    <tr style=\"text-align: right;\">\n",
              "      <th></th>\n",
              "      <th>umur</th>\n",
              "      <th>hipertensi</th>\n",
              "      <th>penyakit_jantung</th>\n",
              "      <th>sudah_menikah</th>\n",
              "      <th>rata2_level_glukosa</th>\n",
              "      <th>bmi</th>\n",
              "      <th>jenis_kelamin_Laki-laki</th>\n",
              "      <th>jenis_kelamin_Perempuan</th>\n",
              "      <th>jenis_pekerjaan_PNS</th>\n",
              "      <th>jenis_pekerjaan_Wirausaha</th>\n",
              "      <th>jenis_pekerjaan_belum bekerja</th>\n",
              "      <th>jenis_pekerjaan_swasta</th>\n",
              "      <th>jenis_tempat_tinggal_Pedesaan</th>\n",
              "      <th>jenis_tempat_tinggal_Perkotaan</th>\n",
              "      <th>perokok aktif</th>\n",
              "      <th>tidak</th>\n",
              "    </tr>\n",
              "  </thead>\n",
              "  <tbody>\n",
              "    <tr>\n",
              "      <th>27</th>\n",
              "      <td>45</td>\n",
              "      <td>1</td>\n",
              "      <td>0</td>\n",
              "      <td>0</td>\n",
              "      <td>0.786604</td>\n",
              "      <td>0.352869</td>\n",
              "      <td>1</td>\n",
              "      <td>0</td>\n",
              "      <td>0</td>\n",
              "      <td>0</td>\n",
              "      <td>0</td>\n",
              "      <td>1</td>\n",
              "      <td>0</td>\n",
              "      <td>1</td>\n",
              "      <td>1</td>\n",
              "      <td>0</td>\n",
              "    </tr>\n",
              "    <tr>\n",
              "      <th>59</th>\n",
              "      <td>78</td>\n",
              "      <td>0</td>\n",
              "      <td>0</td>\n",
              "      <td>1</td>\n",
              "      <td>0.052025</td>\n",
              "      <td>0.177045</td>\n",
              "      <td>0</td>\n",
              "      <td>1</td>\n",
              "      <td>0</td>\n",
              "      <td>0</td>\n",
              "      <td>0</td>\n",
              "      <td>1</td>\n",
              "      <td>0</td>\n",
              "      <td>1</td>\n",
              "      <td>0</td>\n",
              "      <td>1</td>\n",
              "    </tr>\n",
              "    <tr>\n",
              "      <th>246</th>\n",
              "      <td>68</td>\n",
              "      <td>1</td>\n",
              "      <td>0</td>\n",
              "      <td>0</td>\n",
              "      <td>0.104982</td>\n",
              "      <td>0.239316</td>\n",
              "      <td>0</td>\n",
              "      <td>1</td>\n",
              "      <td>0</td>\n",
              "      <td>1</td>\n",
              "      <td>0</td>\n",
              "      <td>0</td>\n",
              "      <td>0</td>\n",
              "      <td>1</td>\n",
              "      <td>0</td>\n",
              "      <td>1</td>\n",
              "    </tr>\n",
              "    <tr>\n",
              "      <th>297</th>\n",
              "      <td>68</td>\n",
              "      <td>1</td>\n",
              "      <td>0</td>\n",
              "      <td>1</td>\n",
              "      <td>0.125911</td>\n",
              "      <td>0.222222</td>\n",
              "      <td>1</td>\n",
              "      <td>0</td>\n",
              "      <td>0</td>\n",
              "      <td>0</td>\n",
              "      <td>0</td>\n",
              "      <td>1</td>\n",
              "      <td>0</td>\n",
              "      <td>1</td>\n",
              "      <td>1</td>\n",
              "      <td>0</td>\n",
              "    </tr>\n",
              "    <tr>\n",
              "      <th>311</th>\n",
              "      <td>38</td>\n",
              "      <td>0</td>\n",
              "      <td>1</td>\n",
              "      <td>1</td>\n",
              "      <td>0.046518</td>\n",
              "      <td>0.158730</td>\n",
              "      <td>0</td>\n",
              "      <td>1</td>\n",
              "      <td>0</td>\n",
              "      <td>0</td>\n",
              "      <td>0</td>\n",
              "      <td>1</td>\n",
              "      <td>0</td>\n",
              "      <td>1</td>\n",
              "      <td>0</td>\n",
              "      <td>0</td>\n",
              "    </tr>\n",
              "  </tbody>\n",
              "</table>\n",
              "</div>"
            ],
            "text/plain": [
              "     umur  hipertensi  ...  perokok aktif  tidak\n",
              "27     45           1  ...              1      0\n",
              "59     78           0  ...              0      1\n",
              "246    68           1  ...              0      1\n",
              "297    68           1  ...              1      0\n",
              "311    38           0  ...              0      0\n",
              "\n",
              "[5 rows x 16 columns]"
            ]
          },
          "metadata": {
            "tags": []
          },
          "execution_count": 29
        }
      ]
    },
    {
      "cell_type": "code",
      "metadata": {
        "id": "86gdfE5PzLgQ",
        "colab": {
          "base_uri": "https://localhost:8080/"
        },
        "outputId": "6ed02a87-e38b-437e-ca9b-971793fb7b26"
      },
      "source": [
        "from sklearn.model_selection import train_test_split\n",
        "x_train,x_val,y_train,y_val = train_test_split(X,Y , test_size=0.05, random_state=5)\n",
        "x_train.shape, y_train.shape"
      ],
      "execution_count": null,
      "outputs": [
        {
          "output_type": "execute_result",
          "data": {
            "text/plain": [
              "((734, 16), (734,))"
            ]
          },
          "metadata": {
            "tags": []
          },
          "execution_count": 30
        }
      ]
    },
    {
      "cell_type": "code",
      "metadata": {
        "id": "Ut5KhL55zpqx",
        "colab": {
          "base_uri": "https://localhost:8080/"
        },
        "outputId": "394a620d-fcd0-4a42-96f6-b3fa815b69d0"
      },
      "source": [
        "y_train"
      ],
      "execution_count": null,
      "outputs": [
        {
          "output_type": "execute_result",
          "data": {
            "text/plain": [
              "86       0.0\n",
              "241      0.0\n",
              "71       0.0\n",
              "18777    1.0\n",
              "3413     1.0\n",
              "        ... \n",
              "6098     1.0\n",
              "17       0.0\n",
              "8586     1.0\n",
              "323      0.0\n",
              "15581    1.0\n",
              "Name: stroke, Length: 734, dtype: float64"
            ]
          },
          "metadata": {
            "tags": []
          },
          "execution_count": 31
        }
      ]
    },
    {
      "cell_type": "code",
      "metadata": {
        "id": "DcHJbRGJzpuM",
        "colab": {
          "base_uri": "https://localhost:8080/"
        },
        "outputId": "434cc5a8-586c-4522-bbf5-1311e24e5f9e"
      },
      "source": [
        "TrainDataset = (tf.data.Dataset.from_tensor_slices((x_train,y_train)).batch(32).prefetch(AUTO))\n",
        "ValDataset = (tf.data.Dataset.from_tensor_slices((x_val,y_val)).batch(32).cache().prefetch(AUTO))\n",
        "TrainDataset.element_spec"
      ],
      "execution_count": null,
      "outputs": [
        {
          "output_type": "execute_result",
          "data": {
            "text/plain": [
              "(TensorSpec(shape=(None, 16), dtype=tf.float64, name=None),\n",
              " TensorSpec(shape=(None,), dtype=tf.float64, name=None))"
            ]
          },
          "metadata": {
            "tags": []
          },
          "execution_count": 32
        }
      ]
    },
    {
      "cell_type": "code",
      "metadata": {
        "id": "jjjYAP7kzpwc",
        "colab": {
          "base_uri": "https://localhost:8080/"
        },
        "outputId": "a241f674-40a8-466f-8214-59ebcaf65753"
      },
      "source": [
        "ValDataset.element_spec"
      ],
      "execution_count": null,
      "outputs": [
        {
          "output_type": "execute_result",
          "data": {
            "text/plain": [
              "(TensorSpec(shape=(None, 16), dtype=tf.float64, name=None),\n",
              " TensorSpec(shape=(None,), dtype=tf.float64, name=None))"
            ]
          },
          "metadata": {
            "tags": []
          },
          "execution_count": 33
        }
      ]
    },
    {
      "cell_type": "code",
      "metadata": {
        "id": "DIH6xvd8zz0l",
        "colab": {
          "base_uri": "https://localhost:8080/"
        },
        "outputId": "fe8bc5f2-6141-4181-a657-40a73416d9c3"
      },
      "source": [
        "input = Input(shape=(16,),dtype=tf.float64)\n",
        "layer = Dense(units=64 ,activation=tf.nn.leaky_relu)(input)\n",
        "layer = Dropout(0.76)(layer)\n",
        "layer = Dense(units=32,activation=tf.nn.leaky_relu)(layer)\n",
        "layer = Dropout(0.4)(layer)\n",
        "layer = Dense(units=32,activation=tf.nn.relu)(layer)\n",
        "layer = Dense(16,activation=tf.nn.tanh)(layer)\n",
        "layer = Dropout(0.5)(layer)\n",
        "layer = Dense(1, activation=tf.nn.sigmoid)(layer)\n",
        "\n",
        "METRICS = [\n",
        "        tf.keras.metrics.TruePositives(name='tp'),\n",
        "        tf.keras.metrics.FalsePositives(name='fp'),\n",
        "        tf.keras.metrics.TrueNegatives(name='tn'),\n",
        "        tf.keras.metrics.FalseNegatives(name='fn'), \n",
        "        tf.keras.metrics.BinaryAccuracy(name='accuracy'),\n",
        "        tf.keras.metrics.Precision(name='precision'),\n",
        "        tf.keras.metrics.Recall(name='recall'),\n",
        "        tf.keras.metrics.AUC(name='auc'),\n",
        "  ] \n",
        "model = Model(inputs=[input],outputs=layer)\n",
        "model.compile(loss=tf.keras.losses.BinaryCrossentropy(),\n",
        "              optimizer=tf.keras.optimizers.Adam(0.01),\n",
        "              metrics=METRICS)\n",
        "model.summary()"
      ],
      "execution_count": null,
      "outputs": [
        {
          "output_type": "stream",
          "text": [
            "WARNING:tensorflow:Layer dense is casting an input tensor from dtype float64 to the layer's dtype of float32, which is new behavior in TensorFlow 2.  The layer has dtype float32 because its dtype defaults to floatx.\n",
            "\n",
            "If you intended to run this layer in float32, you can safely ignore this warning. If in doubt, this warning is likely only an issue if you are porting a TensorFlow 1.X model to TensorFlow 2.\n",
            "\n",
            "To change all layers to have dtype float64 by default, call `tf.keras.backend.set_floatx('float64')`. To change just this layer, pass dtype='float64' to the layer constructor. If you are the author of this layer, you can disable autocasting by passing autocast=False to the base Layer constructor.\n",
            "\n",
            "Model: \"functional_1\"\n",
            "_________________________________________________________________\n",
            "Layer (type)                 Output Shape              Param #   \n",
            "=================================================================\n",
            "input_1 (InputLayer)         [(None, 16)]              0         \n",
            "_________________________________________________________________\n",
            "dense (Dense)                (None, 64)                1088      \n",
            "_________________________________________________________________\n",
            "dropout (Dropout)            (None, 64)                0         \n",
            "_________________________________________________________________\n",
            "dense_1 (Dense)              (None, 32)                2080      \n",
            "_________________________________________________________________\n",
            "dropout_1 (Dropout)          (None, 32)                0         \n",
            "_________________________________________________________________\n",
            "dense_2 (Dense)              (None, 32)                1056      \n",
            "_________________________________________________________________\n",
            "dense_3 (Dense)              (None, 16)                528       \n",
            "_________________________________________________________________\n",
            "dropout_2 (Dropout)          (None, 16)                0         \n",
            "_________________________________________________________________\n",
            "dense_4 (Dense)              (None, 1)                 17        \n",
            "=================================================================\n",
            "Total params: 4,769\n",
            "Trainable params: 4,769\n",
            "Non-trainable params: 0\n",
            "_________________________________________________________________\n"
          ],
          "name": "stdout"
        }
      ]
    },
    {
      "cell_type": "code",
      "metadata": {
        "id": "V_W807DKzz3C"
      },
      "source": [
        "from tensorflow.keras.callbacks import EarlyStopping\n",
        "Early=EarlyStopping(patience=100,monitor=\"val_loss\")"
      ],
      "execution_count": null,
      "outputs": []
    },
    {
      "cell_type": "code",
      "metadata": {
        "id": "1hG6IGaMzz5g"
      },
      "source": [
        "import math\n",
        "def create_learning_rate_scheduler(max_learn_rate=1e-2,\n",
        "                                   end_learn_rate=1e-6,\n",
        "                                   warmup_epoch_count=3,\n",
        "                                   total_epoch_count=15):\n",
        "\n",
        "    def lr_scheduler(epoch):\n",
        "        if epoch < warmup_epoch_count:\n",
        "            res = max_learn_rate\n",
        "        else:\n",
        "            res = max_learn_rate*math.exp(math.log(end_learn_rate/max_learn_rate)*(epoch-warmup_epoch_count+1)/(total_epoch_count-warmup_epoch_count+1))\n",
        "        return float(res)\n",
        "    learning_rate_scheduler = tf.keras.callbacks.LearningRateScheduler(lr_scheduler, verbose=1)\n",
        "\n",
        "    return learning_rate_scheduler"
      ],
      "execution_count": null,
      "outputs": []
    },
    {
      "cell_type": "code",
      "metadata": {
        "id": "HoE-FzmVzz8d",
        "colab": {
          "base_uri": "https://localhost:8080/"
        },
        "outputId": "07c7f52f-cf3a-4c6e-f02c-b92f66bc9d65"
      },
      "source": [
        "model.fit(TrainDataset,verbose=False,validation_data=ValDataset,epochs=1000,callbacks=[create_learning_rate_scheduler(0.001,0.0005,100,200),Early])"
      ],
      "execution_count": null,
      "outputs": [
        {
          "output_type": "stream",
          "text": [
            "\n",
            "Epoch 00001: LearningRateScheduler reducing learning rate to 0.001.\n",
            "\n",
            "Epoch 00002: LearningRateScheduler reducing learning rate to 0.001.\n",
            "\n",
            "Epoch 00003: LearningRateScheduler reducing learning rate to 0.001.\n",
            "\n",
            "Epoch 00004: LearningRateScheduler reducing learning rate to 0.001.\n",
            "\n",
            "Epoch 00005: LearningRateScheduler reducing learning rate to 0.001.\n",
            "\n",
            "Epoch 00006: LearningRateScheduler reducing learning rate to 0.001.\n",
            "\n",
            "Epoch 00007: LearningRateScheduler reducing learning rate to 0.001.\n",
            "\n",
            "Epoch 00008: LearningRateScheduler reducing learning rate to 0.001.\n",
            "\n",
            "Epoch 00009: LearningRateScheduler reducing learning rate to 0.001.\n",
            "\n",
            "Epoch 00010: LearningRateScheduler reducing learning rate to 0.001.\n",
            "\n",
            "Epoch 00011: LearningRateScheduler reducing learning rate to 0.001.\n",
            "\n",
            "Epoch 00012: LearningRateScheduler reducing learning rate to 0.001.\n",
            "\n",
            "Epoch 00013: LearningRateScheduler reducing learning rate to 0.001.\n",
            "\n",
            "Epoch 00014: LearningRateScheduler reducing learning rate to 0.001.\n",
            "\n",
            "Epoch 00015: LearningRateScheduler reducing learning rate to 0.001.\n",
            "\n",
            "Epoch 00016: LearningRateScheduler reducing learning rate to 0.001.\n",
            "\n",
            "Epoch 00017: LearningRateScheduler reducing learning rate to 0.001.\n",
            "\n",
            "Epoch 00018: LearningRateScheduler reducing learning rate to 0.001.\n",
            "\n",
            "Epoch 00019: LearningRateScheduler reducing learning rate to 0.001.\n",
            "\n",
            "Epoch 00020: LearningRateScheduler reducing learning rate to 0.001.\n",
            "\n",
            "Epoch 00021: LearningRateScheduler reducing learning rate to 0.001.\n",
            "\n",
            "Epoch 00022: LearningRateScheduler reducing learning rate to 0.001.\n",
            "\n",
            "Epoch 00023: LearningRateScheduler reducing learning rate to 0.001.\n",
            "\n",
            "Epoch 00024: LearningRateScheduler reducing learning rate to 0.001.\n",
            "\n",
            "Epoch 00025: LearningRateScheduler reducing learning rate to 0.001.\n",
            "\n",
            "Epoch 00026: LearningRateScheduler reducing learning rate to 0.001.\n",
            "\n",
            "Epoch 00027: LearningRateScheduler reducing learning rate to 0.001.\n",
            "\n",
            "Epoch 00028: LearningRateScheduler reducing learning rate to 0.001.\n",
            "\n",
            "Epoch 00029: LearningRateScheduler reducing learning rate to 0.001.\n",
            "\n",
            "Epoch 00030: LearningRateScheduler reducing learning rate to 0.001.\n",
            "\n",
            "Epoch 00031: LearningRateScheduler reducing learning rate to 0.001.\n",
            "\n",
            "Epoch 00032: LearningRateScheduler reducing learning rate to 0.001.\n",
            "\n",
            "Epoch 00033: LearningRateScheduler reducing learning rate to 0.001.\n",
            "\n",
            "Epoch 00034: LearningRateScheduler reducing learning rate to 0.001.\n",
            "\n",
            "Epoch 00035: LearningRateScheduler reducing learning rate to 0.001.\n",
            "\n",
            "Epoch 00036: LearningRateScheduler reducing learning rate to 0.001.\n",
            "\n",
            "Epoch 00037: LearningRateScheduler reducing learning rate to 0.001.\n",
            "\n",
            "Epoch 00038: LearningRateScheduler reducing learning rate to 0.001.\n",
            "\n",
            "Epoch 00039: LearningRateScheduler reducing learning rate to 0.001.\n",
            "\n",
            "Epoch 00040: LearningRateScheduler reducing learning rate to 0.001.\n",
            "\n",
            "Epoch 00041: LearningRateScheduler reducing learning rate to 0.001.\n",
            "\n",
            "Epoch 00042: LearningRateScheduler reducing learning rate to 0.001.\n",
            "\n",
            "Epoch 00043: LearningRateScheduler reducing learning rate to 0.001.\n",
            "\n",
            "Epoch 00044: LearningRateScheduler reducing learning rate to 0.001.\n",
            "\n",
            "Epoch 00045: LearningRateScheduler reducing learning rate to 0.001.\n",
            "\n",
            "Epoch 00046: LearningRateScheduler reducing learning rate to 0.001.\n",
            "\n",
            "Epoch 00047: LearningRateScheduler reducing learning rate to 0.001.\n",
            "\n",
            "Epoch 00048: LearningRateScheduler reducing learning rate to 0.001.\n",
            "\n",
            "Epoch 00049: LearningRateScheduler reducing learning rate to 0.001.\n",
            "\n",
            "Epoch 00050: LearningRateScheduler reducing learning rate to 0.001.\n",
            "\n",
            "Epoch 00051: LearningRateScheduler reducing learning rate to 0.001.\n",
            "\n",
            "Epoch 00052: LearningRateScheduler reducing learning rate to 0.001.\n",
            "\n",
            "Epoch 00053: LearningRateScheduler reducing learning rate to 0.001.\n",
            "\n",
            "Epoch 00054: LearningRateScheduler reducing learning rate to 0.001.\n",
            "\n",
            "Epoch 00055: LearningRateScheduler reducing learning rate to 0.001.\n",
            "\n",
            "Epoch 00056: LearningRateScheduler reducing learning rate to 0.001.\n",
            "\n",
            "Epoch 00057: LearningRateScheduler reducing learning rate to 0.001.\n",
            "\n",
            "Epoch 00058: LearningRateScheduler reducing learning rate to 0.001.\n",
            "\n",
            "Epoch 00059: LearningRateScheduler reducing learning rate to 0.001.\n",
            "\n",
            "Epoch 00060: LearningRateScheduler reducing learning rate to 0.001.\n",
            "\n",
            "Epoch 00061: LearningRateScheduler reducing learning rate to 0.001.\n",
            "\n",
            "Epoch 00062: LearningRateScheduler reducing learning rate to 0.001.\n",
            "\n",
            "Epoch 00063: LearningRateScheduler reducing learning rate to 0.001.\n",
            "\n",
            "Epoch 00064: LearningRateScheduler reducing learning rate to 0.001.\n",
            "\n",
            "Epoch 00065: LearningRateScheduler reducing learning rate to 0.001.\n",
            "\n",
            "Epoch 00066: LearningRateScheduler reducing learning rate to 0.001.\n",
            "\n",
            "Epoch 00067: LearningRateScheduler reducing learning rate to 0.001.\n",
            "\n",
            "Epoch 00068: LearningRateScheduler reducing learning rate to 0.001.\n",
            "\n",
            "Epoch 00069: LearningRateScheduler reducing learning rate to 0.001.\n",
            "\n",
            "Epoch 00070: LearningRateScheduler reducing learning rate to 0.001.\n",
            "\n",
            "Epoch 00071: LearningRateScheduler reducing learning rate to 0.001.\n",
            "\n",
            "Epoch 00072: LearningRateScheduler reducing learning rate to 0.001.\n",
            "\n",
            "Epoch 00073: LearningRateScheduler reducing learning rate to 0.001.\n",
            "\n",
            "Epoch 00074: LearningRateScheduler reducing learning rate to 0.001.\n",
            "\n",
            "Epoch 00075: LearningRateScheduler reducing learning rate to 0.001.\n",
            "\n",
            "Epoch 00076: LearningRateScheduler reducing learning rate to 0.001.\n",
            "\n",
            "Epoch 00077: LearningRateScheduler reducing learning rate to 0.001.\n",
            "\n",
            "Epoch 00078: LearningRateScheduler reducing learning rate to 0.001.\n",
            "\n",
            "Epoch 00079: LearningRateScheduler reducing learning rate to 0.001.\n",
            "\n",
            "Epoch 00080: LearningRateScheduler reducing learning rate to 0.001.\n",
            "\n",
            "Epoch 00081: LearningRateScheduler reducing learning rate to 0.001.\n",
            "\n",
            "Epoch 00082: LearningRateScheduler reducing learning rate to 0.001.\n",
            "\n",
            "Epoch 00083: LearningRateScheduler reducing learning rate to 0.001.\n",
            "\n",
            "Epoch 00084: LearningRateScheduler reducing learning rate to 0.001.\n",
            "\n",
            "Epoch 00085: LearningRateScheduler reducing learning rate to 0.001.\n",
            "\n",
            "Epoch 00086: LearningRateScheduler reducing learning rate to 0.001.\n",
            "\n",
            "Epoch 00087: LearningRateScheduler reducing learning rate to 0.001.\n",
            "\n",
            "Epoch 00088: LearningRateScheduler reducing learning rate to 0.001.\n",
            "\n",
            "Epoch 00089: LearningRateScheduler reducing learning rate to 0.001.\n",
            "\n",
            "Epoch 00090: LearningRateScheduler reducing learning rate to 0.001.\n",
            "\n",
            "Epoch 00091: LearningRateScheduler reducing learning rate to 0.001.\n",
            "\n",
            "Epoch 00092: LearningRateScheduler reducing learning rate to 0.001.\n",
            "\n",
            "Epoch 00093: LearningRateScheduler reducing learning rate to 0.001.\n",
            "\n",
            "Epoch 00094: LearningRateScheduler reducing learning rate to 0.001.\n",
            "\n",
            "Epoch 00095: LearningRateScheduler reducing learning rate to 0.001.\n",
            "\n",
            "Epoch 00096: LearningRateScheduler reducing learning rate to 0.001.\n",
            "\n",
            "Epoch 00097: LearningRateScheduler reducing learning rate to 0.001.\n",
            "\n",
            "Epoch 00098: LearningRateScheduler reducing learning rate to 0.001.\n",
            "\n",
            "Epoch 00099: LearningRateScheduler reducing learning rate to 0.001.\n",
            "\n",
            "Epoch 00100: LearningRateScheduler reducing learning rate to 0.001.\n",
            "\n",
            "Epoch 00101: LearningRateScheduler reducing learning rate to 0.0009931606521582535.\n",
            "\n",
            "Epoch 00102: LearningRateScheduler reducing learning rate to 0.0009863680809954073.\n",
            "\n",
            "Epoch 00103: LearningRateScheduler reducing learning rate to 0.0009796219665894835.\n",
            "\n",
            "Epoch 00104: LearningRateScheduler reducing learning rate to 0.0009729219912065622.\n"
          ],
          "name": "stdout"
        },
        {
          "output_type": "execute_result",
          "data": {
            "text/plain": [
              "<tensorflow.python.keras.callbacks.History at 0x7fccfbb31ef0>"
            ]
          },
          "metadata": {
            "tags": []
          },
          "execution_count": 37
        }
      ]
    },
    {
      "cell_type": "code",
      "metadata": {
        "id": "kSkoUy_Jzz_P",
        "colab": {
          "base_uri": "https://localhost:8080/",
          "height": 453
        },
        "outputId": "f707c758-8c7f-4bf8-91dd-ae7d14a286ac"
      },
      "source": [
        "x_train"
      ],
      "execution_count": null,
      "outputs": [
        {
          "output_type": "execute_result",
          "data": {
            "text/html": [
              "<div>\n",
              "<style scoped>\n",
              "    .dataframe tbody tr th:only-of-type {\n",
              "        vertical-align: middle;\n",
              "    }\n",
              "\n",
              "    .dataframe tbody tr th {\n",
              "        vertical-align: top;\n",
              "    }\n",
              "\n",
              "    .dataframe thead th {\n",
              "        text-align: right;\n",
              "    }\n",
              "</style>\n",
              "<table border=\"1\" class=\"dataframe\">\n",
              "  <thead>\n",
              "    <tr style=\"text-align: right;\">\n",
              "      <th></th>\n",
              "      <th>umur</th>\n",
              "      <th>hipertensi</th>\n",
              "      <th>penyakit_jantung</th>\n",
              "      <th>sudah_menikah</th>\n",
              "      <th>rata2_level_glukosa</th>\n",
              "      <th>bmi</th>\n",
              "      <th>jenis_kelamin_Laki-laki</th>\n",
              "      <th>jenis_kelamin_Perempuan</th>\n",
              "      <th>jenis_pekerjaan_PNS</th>\n",
              "      <th>jenis_pekerjaan_Wirausaha</th>\n",
              "      <th>jenis_pekerjaan_belum bekerja</th>\n",
              "      <th>jenis_pekerjaan_swasta</th>\n",
              "      <th>jenis_tempat_tinggal_Pedesaan</th>\n",
              "      <th>jenis_tempat_tinggal_Perkotaan</th>\n",
              "      <th>perokok aktif</th>\n",
              "      <th>tidak</th>\n",
              "    </tr>\n",
              "  </thead>\n",
              "  <tbody>\n",
              "    <tr>\n",
              "      <th>86</th>\n",
              "      <td>38</td>\n",
              "      <td>0</td>\n",
              "      <td>0</td>\n",
              "      <td>1</td>\n",
              "      <td>0.737502</td>\n",
              "      <td>0.391941</td>\n",
              "      <td>0</td>\n",
              "      <td>1</td>\n",
              "      <td>1</td>\n",
              "      <td>0</td>\n",
              "      <td>0</td>\n",
              "      <td>0</td>\n",
              "      <td>1</td>\n",
              "      <td>0</td>\n",
              "      <td>0</td>\n",
              "      <td>1</td>\n",
              "    </tr>\n",
              "    <tr>\n",
              "      <th>241</th>\n",
              "      <td>24</td>\n",
              "      <td>0</td>\n",
              "      <td>0</td>\n",
              "      <td>0</td>\n",
              "      <td>0.173911</td>\n",
              "      <td>0.183150</td>\n",
              "      <td>0</td>\n",
              "      <td>1</td>\n",
              "      <td>1</td>\n",
              "      <td>0</td>\n",
              "      <td>0</td>\n",
              "      <td>0</td>\n",
              "      <td>1</td>\n",
              "      <td>0</td>\n",
              "      <td>0</td>\n",
              "      <td>1</td>\n",
              "    </tr>\n",
              "    <tr>\n",
              "      <th>71</th>\n",
              "      <td>49</td>\n",
              "      <td>0</td>\n",
              "      <td>0</td>\n",
              "      <td>1</td>\n",
              "      <td>0.028724</td>\n",
              "      <td>0.267399</td>\n",
              "      <td>0</td>\n",
              "      <td>1</td>\n",
              "      <td>0</td>\n",
              "      <td>1</td>\n",
              "      <td>0</td>\n",
              "      <td>0</td>\n",
              "      <td>0</td>\n",
              "      <td>1</td>\n",
              "      <td>1</td>\n",
              "      <td>0</td>\n",
              "    </tr>\n",
              "    <tr>\n",
              "      <th>18777</th>\n",
              "      <td>64</td>\n",
              "      <td>1</td>\n",
              "      <td>0</td>\n",
              "      <td>1</td>\n",
              "      <td>0.228563</td>\n",
              "      <td>0.249084</td>\n",
              "      <td>1</td>\n",
              "      <td>0</td>\n",
              "      <td>0</td>\n",
              "      <td>0</td>\n",
              "      <td>0</td>\n",
              "      <td>1</td>\n",
              "      <td>0</td>\n",
              "      <td>1</td>\n",
              "      <td>0</td>\n",
              "      <td>0</td>\n",
              "    </tr>\n",
              "    <tr>\n",
              "      <th>3413</th>\n",
              "      <td>56</td>\n",
              "      <td>0</td>\n",
              "      <td>0</td>\n",
              "      <td>1</td>\n",
              "      <td>0.045797</td>\n",
              "      <td>0.166056</td>\n",
              "      <td>1</td>\n",
              "      <td>0</td>\n",
              "      <td>1</td>\n",
              "      <td>0</td>\n",
              "      <td>0</td>\n",
              "      <td>0</td>\n",
              "      <td>1</td>\n",
              "      <td>0</td>\n",
              "      <td>0</td>\n",
              "      <td>1</td>\n",
              "    </tr>\n",
              "    <tr>\n",
              "      <th>...</th>\n",
              "      <td>...</td>\n",
              "      <td>...</td>\n",
              "      <td>...</td>\n",
              "      <td>...</td>\n",
              "      <td>...</td>\n",
              "      <td>...</td>\n",
              "      <td>...</td>\n",
              "      <td>...</td>\n",
              "      <td>...</td>\n",
              "      <td>...</td>\n",
              "      <td>...</td>\n",
              "      <td>...</td>\n",
              "      <td>...</td>\n",
              "      <td>...</td>\n",
              "      <td>...</td>\n",
              "      <td>...</td>\n",
              "    </tr>\n",
              "    <tr>\n",
              "      <th>6098</th>\n",
              "      <td>69</td>\n",
              "      <td>0</td>\n",
              "      <td>1</td>\n",
              "      <td>0</td>\n",
              "      <td>0.075241</td>\n",
              "      <td>0.161172</td>\n",
              "      <td>0</td>\n",
              "      <td>1</td>\n",
              "      <td>1</td>\n",
              "      <td>0</td>\n",
              "      <td>0</td>\n",
              "      <td>0</td>\n",
              "      <td>0</td>\n",
              "      <td>1</td>\n",
              "      <td>0</td>\n",
              "      <td>1</td>\n",
              "    </tr>\n",
              "    <tr>\n",
              "      <th>17</th>\n",
              "      <td>48</td>\n",
              "      <td>0</td>\n",
              "      <td>0</td>\n",
              "      <td>1</td>\n",
              "      <td>0.208990</td>\n",
              "      <td>0.332112</td>\n",
              "      <td>1</td>\n",
              "      <td>0</td>\n",
              "      <td>0</td>\n",
              "      <td>0</td>\n",
              "      <td>0</td>\n",
              "      <td>1</td>\n",
              "      <td>1</td>\n",
              "      <td>0</td>\n",
              "      <td>0</td>\n",
              "      <td>1</td>\n",
              "    </tr>\n",
              "    <tr>\n",
              "      <th>8586</th>\n",
              "      <td>68</td>\n",
              "      <td>1</td>\n",
              "      <td>0</td>\n",
              "      <td>1</td>\n",
              "      <td>0.640061</td>\n",
              "      <td>0.202686</td>\n",
              "      <td>0</td>\n",
              "      <td>1</td>\n",
              "      <td>0</td>\n",
              "      <td>1</td>\n",
              "      <td>0</td>\n",
              "      <td>0</td>\n",
              "      <td>1</td>\n",
              "      <td>0</td>\n",
              "      <td>0</td>\n",
              "      <td>1</td>\n",
              "    </tr>\n",
              "    <tr>\n",
              "      <th>323</th>\n",
              "      <td>45</td>\n",
              "      <td>0</td>\n",
              "      <td>0</td>\n",
              "      <td>1</td>\n",
              "      <td>0.158490</td>\n",
              "      <td>0.166056</td>\n",
              "      <td>1</td>\n",
              "      <td>0</td>\n",
              "      <td>0</td>\n",
              "      <td>0</td>\n",
              "      <td>0</td>\n",
              "      <td>1</td>\n",
              "      <td>0</td>\n",
              "      <td>1</td>\n",
              "      <td>0</td>\n",
              "      <td>0</td>\n",
              "    </tr>\n",
              "    <tr>\n",
              "      <th>15581</th>\n",
              "      <td>70</td>\n",
              "      <td>0</td>\n",
              "      <td>1</td>\n",
              "      <td>1</td>\n",
              "      <td>0.730258</td>\n",
              "      <td>0.197802</td>\n",
              "      <td>1</td>\n",
              "      <td>0</td>\n",
              "      <td>0</td>\n",
              "      <td>0</td>\n",
              "      <td>0</td>\n",
              "      <td>1</td>\n",
              "      <td>1</td>\n",
              "      <td>0</td>\n",
              "      <td>1</td>\n",
              "      <td>0</td>\n",
              "    </tr>\n",
              "  </tbody>\n",
              "</table>\n",
              "<p>734 rows × 16 columns</p>\n",
              "</div>"
            ],
            "text/plain": [
              "       umur  hipertensi  ...  perokok aktif  tidak\n",
              "86       38           0  ...              0      1\n",
              "241      24           0  ...              0      1\n",
              "71       49           0  ...              1      0\n",
              "18777    64           1  ...              0      0\n",
              "3413     56           0  ...              0      1\n",
              "...     ...         ...  ...            ...    ...\n",
              "6098     69           0  ...              0      1\n",
              "17       48           0  ...              0      1\n",
              "8586     68           1  ...              0      1\n",
              "323      45           0  ...              0      0\n",
              "15581    70           0  ...              1      0\n",
              "\n",
              "[734 rows x 16 columns]"
            ]
          },
          "metadata": {
            "tags": []
          },
          "execution_count": 38
        }
      ]
    },
    {
      "cell_type": "code",
      "metadata": {
        "id": "KSo24i0mz0Ed",
        "colab": {
          "base_uri": "https://localhost:8080/",
          "height": 202
        },
        "outputId": "f145cc99-18e7-4ea2-988a-dc2a9066be05"
      },
      "source": [
        "answer = np.argmax(model.predict(test[test.columns[1:]]),axis=1)\r\n",
        "test['stroke']=answer\r\n",
        "answ=test[[\"id_pasien\",\"stroke\"]]\r\n",
        "answ.head()"
      ],
      "execution_count": null,
      "outputs": [
        {
          "output_type": "execute_result",
          "data": {
            "text/html": [
              "<div>\n",
              "<style scoped>\n",
              "    .dataframe tbody tr th:only-of-type {\n",
              "        vertical-align: middle;\n",
              "    }\n",
              "\n",
              "    .dataframe tbody tr th {\n",
              "        vertical-align: top;\n",
              "    }\n",
              "\n",
              "    .dataframe thead th {\n",
              "        text-align: right;\n",
              "    }\n",
              "</style>\n",
              "<table border=\"1\" class=\"dataframe\">\n",
              "  <thead>\n",
              "    <tr style=\"text-align: right;\">\n",
              "      <th></th>\n",
              "      <th>id_pasien</th>\n",
              "      <th>stroke</th>\n",
              "    </tr>\n",
              "  </thead>\n",
              "  <tbody>\n",
              "    <tr>\n",
              "      <th>0</th>\n",
              "      <td>2000</td>\n",
              "      <td>0</td>\n",
              "    </tr>\n",
              "    <tr>\n",
              "      <th>1</th>\n",
              "      <td>2001</td>\n",
              "      <td>0</td>\n",
              "    </tr>\n",
              "    <tr>\n",
              "      <th>2</th>\n",
              "      <td>2002</td>\n",
              "      <td>0</td>\n",
              "    </tr>\n",
              "    <tr>\n",
              "      <th>3</th>\n",
              "      <td>2003</td>\n",
              "      <td>0</td>\n",
              "    </tr>\n",
              "    <tr>\n",
              "      <th>4</th>\n",
              "      <td>2004</td>\n",
              "      <td>0</td>\n",
              "    </tr>\n",
              "  </tbody>\n",
              "</table>\n",
              "</div>"
            ],
            "text/plain": [
              "   id_pasien  stroke\n",
              "0       2000       0\n",
              "1       2001       0\n",
              "2       2002       0\n",
              "3       2003       0\n",
              "4       2004       0"
            ]
          },
          "metadata": {
            "tags": []
          },
          "execution_count": 39
        }
      ]
    },
    {
      "cell_type": "code",
      "metadata": {
        "id": "TjNf4CSpwbia",
        "colab": {
          "base_uri": "https://localhost:8080/"
        },
        "outputId": "58cd8e0d-a7db-498b-cbfe-41825b1bb872"
      },
      "source": [
        "answer"
      ],
      "execution_count": null,
      "outputs": [
        {
          "output_type": "execute_result",
          "data": {
            "text/plain": [
              "array([0, 0, 0, 0, 0, 0, 0, 0, 0, 0, 0, 0, 0, 0, 0, 0, 0, 0, 0, 0, 0, 0,\n",
              "       0, 0, 0, 0, 0, 0, 0, 0, 0, 0, 0, 0, 0, 0, 0, 0, 0, 0, 0, 0, 0, 0,\n",
              "       0, 0, 0, 0, 0, 0, 0, 0, 0, 0, 0, 0, 0, 0, 0, 0, 0, 0, 0, 0, 0, 0,\n",
              "       0, 0, 0, 0, 0, 0, 0, 0, 0, 0, 0, 0, 0, 0, 0, 0, 0, 0, 0, 0, 0, 0,\n",
              "       0, 0, 0, 0, 0, 0, 0, 0, 0, 0, 0, 0, 0, 0, 0, 0, 0, 0, 0, 0, 0, 0,\n",
              "       0, 0, 0, 0, 0, 0, 0, 0, 0, 0, 0, 0, 0, 0, 0, 0, 0, 0, 0, 0, 0, 0,\n",
              "       0, 0, 0, 0, 0, 0, 0, 0, 0, 0, 0, 0, 0, 0, 0, 0, 0, 0, 0, 0, 0, 0,\n",
              "       0, 0, 0, 0, 0, 0, 0, 0, 0, 0, 0, 0, 0, 0, 0, 0, 0, 0, 0, 0, 0, 0,\n",
              "       0, 0, 0, 0, 0, 0, 0, 0, 0, 0, 0, 0, 0, 0, 0, 0, 0, 0, 0, 0, 0, 0,\n",
              "       0, 0, 0, 0, 0, 0, 0, 0, 0, 0, 0, 0, 0, 0, 0, 0, 0, 0, 0, 0, 0, 0,\n",
              "       0, 0, 0, 0, 0, 0, 0, 0, 0, 0, 0, 0, 0, 0, 0, 0, 0, 0, 0, 0, 0, 0,\n",
              "       0, 0, 0, 0, 0, 0, 0, 0, 0, 0, 0, 0, 0, 0, 0, 0, 0, 0, 0, 0, 0, 0,\n",
              "       0, 0, 0, 0, 0, 0, 0, 0, 0, 0, 0, 0, 0, 0, 0, 0, 0, 0, 0, 0, 0, 0,\n",
              "       0, 0, 0, 0, 0, 0, 0, 0, 0, 0, 0, 0, 0, 0, 0, 0, 0, 0, 0, 0, 0, 0,\n",
              "       0, 0, 0, 0, 0, 0, 0, 0, 0, 0, 0, 0, 0, 0, 0, 0, 0, 0, 0, 0, 0, 0,\n",
              "       0, 0, 0, 0, 0, 0, 0, 0, 0, 0, 0, 0, 0, 0, 0, 0, 0, 0, 0, 0, 0, 0,\n",
              "       0, 0, 0, 0, 0, 0, 0, 0, 0, 0, 0, 0, 0, 0, 0, 0, 0, 0, 0, 0, 0, 0,\n",
              "       0, 0, 0, 0, 0, 0, 0, 0, 0, 0, 0, 0, 0, 0, 0, 0, 0, 0, 0, 0, 0, 0,\n",
              "       0, 0, 0, 0, 0, 0, 0, 0, 0, 0, 0, 0, 0, 0, 0, 0, 0, 0, 0, 0, 0, 0,\n",
              "       0, 0, 0, 0, 0, 0, 0, 0, 0, 0, 0, 0, 0, 0, 0, 0, 0, 0, 0, 0, 0, 0,\n",
              "       0, 0, 0, 0, 0, 0, 0, 0, 0, 0, 0, 0, 0, 0, 0, 0, 0, 0, 0, 0, 0, 0,\n",
              "       0, 0, 0, 0, 0, 0, 0, 0, 0, 0, 0, 0, 0, 0, 0, 0, 0, 0, 0, 0, 0, 0,\n",
              "       0, 0, 0, 0, 0, 0, 0, 0, 0, 0, 0, 0, 0, 0, 0, 0, 0, 0, 0, 0, 0, 0,\n",
              "       0, 0, 0, 0, 0, 0, 0, 0, 0, 0, 0, 0, 0, 0, 0, 0, 0, 0, 0, 0, 0, 0,\n",
              "       0, 0, 0, 0, 0, 0, 0, 0, 0, 0, 0, 0, 0, 0, 0, 0, 0, 0, 0, 0, 0, 0,\n",
              "       0, 0, 0, 0, 0, 0, 0, 0, 0, 0, 0, 0, 0, 0, 0, 0, 0, 0, 0, 0, 0, 0,\n",
              "       0, 0, 0, 0, 0, 0, 0, 0, 0, 0, 0, 0, 0, 0, 0, 0, 0, 0, 0, 0, 0, 0,\n",
              "       0, 0, 0, 0, 0, 0, 0, 0, 0, 0, 0, 0, 0, 0, 0, 0, 0, 0, 0, 0, 0, 0,\n",
              "       0, 0, 0, 0, 0, 0, 0, 0, 0, 0, 0, 0, 0, 0, 0, 0, 0, 0, 0, 0, 0, 0,\n",
              "       0, 0, 0, 0, 0, 0, 0, 0, 0, 0, 0, 0, 0, 0, 0, 0, 0, 0, 0, 0, 0, 0,\n",
              "       0, 0, 0, 0, 0, 0, 0, 0, 0, 0, 0, 0, 0, 0, 0, 0, 0, 0, 0, 0, 0, 0,\n",
              "       0, 0, 0, 0, 0, 0, 0, 0, 0, 0, 0, 0, 0, 0, 0, 0, 0, 0, 0, 0, 0, 0,\n",
              "       0, 0, 0, 0, 0, 0, 0, 0, 0, 0, 0, 0, 0, 0, 0, 0, 0, 0, 0, 0, 0, 0,\n",
              "       0, 0, 0, 0, 0, 0, 0, 0, 0, 0, 0, 0, 0, 0, 0, 0, 0, 0, 0, 0, 0, 0,\n",
              "       0, 0, 0, 0, 0, 0, 0, 0, 0, 0, 0, 0, 0, 0, 0, 0, 0, 0, 0, 0, 0, 0,\n",
              "       0, 0, 0, 0, 0, 0, 0, 0, 0, 0, 0, 0, 0, 0, 0, 0, 0, 0, 0, 0, 0, 0,\n",
              "       0, 0, 0, 0, 0, 0, 0, 0, 0, 0, 0, 0, 0, 0, 0, 0, 0, 0, 0, 0, 0, 0,\n",
              "       0, 0, 0, 0, 0, 0, 0, 0, 0, 0, 0, 0, 0, 0, 0, 0, 0, 0, 0, 0, 0, 0,\n",
              "       0, 0, 0, 0, 0, 0, 0, 0, 0, 0, 0, 0, 0, 0, 0, 0, 0, 0, 0, 0, 0, 0,\n",
              "       0, 0, 0, 0, 0, 0, 0, 0, 0, 0, 0, 0, 0, 0, 0, 0, 0, 0, 0, 0, 0, 0,\n",
              "       0, 0, 0, 0, 0, 0, 0, 0, 0, 0, 0, 0, 0, 0, 0, 0, 0, 0, 0, 0, 0, 0,\n",
              "       0, 0, 0, 0, 0, 0, 0, 0, 0, 0, 0, 0, 0, 0, 0, 0, 0, 0, 0, 0, 0, 0,\n",
              "       0, 0, 0, 0, 0, 0, 0, 0, 0, 0, 0, 0, 0, 0, 0, 0, 0, 0, 0, 0, 0, 0,\n",
              "       0, 0, 0, 0, 0, 0, 0, 0, 0, 0, 0, 0, 0, 0, 0, 0, 0, 0, 0, 0, 0, 0,\n",
              "       0, 0, 0, 0, 0, 0, 0, 0, 0, 0, 0, 0, 0, 0, 0, 0, 0, 0, 0, 0, 0, 0])"
            ]
          },
          "metadata": {
            "tags": []
          },
          "execution_count": 40
        }
      ]
    },
    {
      "cell_type": "code",
      "metadata": {
        "id": "lGyIpSqMwbsT"
      },
      "source": [
        "test.drop(\"stroke\",axis=1,inplace=True)"
      ],
      "execution_count": null,
      "outputs": []
    },
    {
      "cell_type": "code",
      "metadata": {
        "id": "wBIMFU34wxyU"
      },
      "source": [
        "answ.to_csv(\"submit.csv\",index=False)"
      ],
      "execution_count": null,
      "outputs": []
    },
    {
      "cell_type": "code",
      "metadata": {
        "id": "pymbBsDnwx4v",
        "colab": {
          "base_uri": "https://localhost:8080/"
        },
        "outputId": "cfb70185-ca0f-44d3-c4da-d9e62935b36d"
      },
      "source": [
        "from sklearn.ensemble import RandomForestClassifier\r\n",
        "\r\n",
        "RandomObj = RandomForestClassifier(n_estimators=1000,max_depth=7,random_state=5)\r\n",
        "RandomObj.fit(x_train,y_train)"
      ],
      "execution_count": null,
      "outputs": [
        {
          "output_type": "execute_result",
          "data": {
            "text/plain": [
              "RandomForestClassifier(bootstrap=True, ccp_alpha=0.0, class_weight=None,\n",
              "                       criterion='gini', max_depth=7, max_features='auto',\n",
              "                       max_leaf_nodes=None, max_samples=None,\n",
              "                       min_impurity_decrease=0.0, min_impurity_split=None,\n",
              "                       min_samples_leaf=1, min_samples_split=2,\n",
              "                       min_weight_fraction_leaf=0.0, n_estimators=1000,\n",
              "                       n_jobs=None, oob_score=False, random_state=5, verbose=0,\n",
              "                       warm_start=False)"
            ]
          },
          "metadata": {
            "tags": []
          },
          "execution_count": 43
        }
      ]
    },
    {
      "cell_type": "code",
      "metadata": {
        "id": "02FsUo1Bwx7A",
        "colab": {
          "base_uri": "https://localhost:8080/"
        },
        "outputId": "e0a420db-63b4-4742-89fb-8eb042dccd60"
      },
      "source": [
        "from sklearn.metrics import classification_report\r\n",
        "y_pred = RandomObj.predict(x_val)\r\n",
        "print(classification_report(y_val,y_pred))"
      ],
      "execution_count": null,
      "outputs": [
        {
          "output_type": "stream",
          "text": [
            "              precision    recall  f1-score   support\n",
            "\n",
            "         0.0       0.94      0.71      0.81        21\n",
            "         1.0       0.74      0.94      0.83        18\n",
            "\n",
            "    accuracy                           0.82        39\n",
            "   macro avg       0.84      0.83      0.82        39\n",
            "weighted avg       0.85      0.82      0.82        39\n",
            "\n"
          ],
          "name": "stdout"
        }
      ]
    },
    {
      "cell_type": "code",
      "metadata": {
        "id": "KYZiNDQrw-_8"
      },
      "source": [
        "Ans =RandomObj.predict(test[test.columns[1:]])"
      ],
      "execution_count": null,
      "outputs": []
    },
    {
      "cell_type": "code",
      "metadata": {
        "id": "EXtoisfTmDzi"
      },
      "source": [
        "Ans = Ans.astype(\"int\")"
      ],
      "execution_count": null,
      "outputs": []
    },
    {
      "cell_type": "code",
      "metadata": {
        "id": "8gYC8yCqw_In"
      },
      "source": [
        "Answer = pd.DataFrame(test[\"id_pasien\"])\r\n",
        "Answer[\"stroke\"] = Ans\r\n",
        "Answer.to_csv(\"/content/drive/My Drive/Dataset/TubesDSC/submitML.csv\",index=False)"
      ],
      "execution_count": null,
      "outputs": []
    },
    {
      "cell_type": "code",
      "metadata": {
        "id": "Htvzew0Cw_Ne",
        "colab": {
          "base_uri": "https://localhost:8080/",
          "height": 415
        },
        "outputId": "59e1253b-e371-4562-e8ba-fbdd2beca07a"
      },
      "source": [
        "Answer"
      ],
      "execution_count": null,
      "outputs": [
        {
          "output_type": "execute_result",
          "data": {
            "text/html": [
              "<div>\n",
              "<style scoped>\n",
              "    .dataframe tbody tr th:only-of-type {\n",
              "        vertical-align: middle;\n",
              "    }\n",
              "\n",
              "    .dataframe tbody tr th {\n",
              "        vertical-align: top;\n",
              "    }\n",
              "\n",
              "    .dataframe thead th {\n",
              "        text-align: right;\n",
              "    }\n",
              "</style>\n",
              "<table border=\"1\" class=\"dataframe\">\n",
              "  <thead>\n",
              "    <tr style=\"text-align: right;\">\n",
              "      <th></th>\n",
              "      <th>id_pasien</th>\n",
              "      <th>stroke</th>\n",
              "    </tr>\n",
              "  </thead>\n",
              "  <tbody>\n",
              "    <tr>\n",
              "      <th>0</th>\n",
              "      <td>2000</td>\n",
              "      <td>0</td>\n",
              "    </tr>\n",
              "    <tr>\n",
              "      <th>1</th>\n",
              "      <td>2001</td>\n",
              "      <td>1</td>\n",
              "    </tr>\n",
              "    <tr>\n",
              "      <th>2</th>\n",
              "      <td>2002</td>\n",
              "      <td>0</td>\n",
              "    </tr>\n",
              "    <tr>\n",
              "      <th>3</th>\n",
              "      <td>2003</td>\n",
              "      <td>0</td>\n",
              "    </tr>\n",
              "    <tr>\n",
              "      <th>4</th>\n",
              "      <td>2004</td>\n",
              "      <td>1</td>\n",
              "    </tr>\n",
              "    <tr>\n",
              "      <th>...</th>\n",
              "      <td>...</td>\n",
              "      <td>...</td>\n",
              "    </tr>\n",
              "    <tr>\n",
              "      <th>985</th>\n",
              "      <td>2985</td>\n",
              "      <td>0</td>\n",
              "    </tr>\n",
              "    <tr>\n",
              "      <th>986</th>\n",
              "      <td>2986</td>\n",
              "      <td>1</td>\n",
              "    </tr>\n",
              "    <tr>\n",
              "      <th>987</th>\n",
              "      <td>2987</td>\n",
              "      <td>0</td>\n",
              "    </tr>\n",
              "    <tr>\n",
              "      <th>988</th>\n",
              "      <td>2988</td>\n",
              "      <td>0</td>\n",
              "    </tr>\n",
              "    <tr>\n",
              "      <th>989</th>\n",
              "      <td>2989</td>\n",
              "      <td>1</td>\n",
              "    </tr>\n",
              "  </tbody>\n",
              "</table>\n",
              "<p>990 rows × 2 columns</p>\n",
              "</div>"
            ],
            "text/plain": [
              "     id_pasien  stroke\n",
              "0         2000       0\n",
              "1         2001       1\n",
              "2         2002       0\n",
              "3         2003       0\n",
              "4         2004       1\n",
              "..         ...     ...\n",
              "985       2985       0\n",
              "986       2986       1\n",
              "987       2987       0\n",
              "988       2988       0\n",
              "989       2989       1\n",
              "\n",
              "[990 rows x 2 columns]"
            ]
          },
          "metadata": {
            "tags": []
          },
          "execution_count": 48
        }
      ]
    },
    {
      "cell_type": "code",
      "metadata": {
        "id": "DKujH5m2w_YR",
        "colab": {
          "base_uri": "https://localhost:8080/"
        },
        "outputId": "4acf3464-dc1f-4a87-af97-c85b9c1dcaa2"
      },
      "source": [
        "Ans"
      ],
      "execution_count": null,
      "outputs": [
        {
          "output_type": "execute_result",
          "data": {
            "text/plain": [
              "array([0, 1, 0, 0, 1, 0, 0, 1, 1, 1, 0, 1, 1, 1, 0, 0, 0, 0, 1, 0, 1, 0,\n",
              "       0, 0, 1, 1, 1, 1, 0, 1, 1, 1, 0, 0, 0, 1, 1, 0, 0, 0, 0, 0, 1, 0,\n",
              "       1, 0, 1, 0, 0, 1, 0, 1, 0, 1, 0, 0, 0, 0, 1, 0, 1, 0, 0, 1, 0, 1,\n",
              "       0, 0, 1, 1, 1, 0, 0, 0, 0, 1, 0, 1, 0, 0, 0, 1, 0, 0, 0, 0, 0, 0,\n",
              "       0, 1, 1, 0, 1, 0, 1, 0, 1, 0, 0, 1, 1, 0, 0, 0, 0, 1, 1, 0, 1, 0,\n",
              "       0, 1, 0, 0, 0, 1, 0, 0, 0, 0, 0, 1, 1, 1, 1, 1, 0, 1, 0, 1, 0, 1,\n",
              "       1, 1, 0, 1, 0, 0, 0, 0, 1, 1, 0, 0, 0, 0, 0, 1, 1, 1, 0, 1, 1, 0,\n",
              "       0, 0, 1, 0, 0, 1, 1, 0, 0, 1, 0, 0, 0, 0, 0, 1, 0, 0, 0, 0, 1, 1,\n",
              "       1, 0, 0, 0, 0, 0, 1, 0, 0, 0, 0, 1, 0, 0, 1, 0, 0, 0, 0, 1, 1, 0,\n",
              "       0, 0, 1, 1, 0, 0, 0, 0, 0, 0, 0, 0, 0, 1, 0, 1, 0, 0, 1, 1, 0, 0,\n",
              "       0, 0, 1, 1, 1, 0, 1, 0, 0, 0, 0, 0, 0, 1, 1, 0, 1, 1, 0, 1, 0, 1,\n",
              "       0, 0, 1, 1, 1, 1, 1, 1, 0, 0, 0, 0, 1, 0, 0, 0, 1, 1, 1, 1, 0, 0,\n",
              "       1, 1, 0, 1, 1, 0, 1, 1, 0, 1, 0, 0, 0, 1, 0, 1, 1, 0, 0, 1, 1, 0,\n",
              "       0, 0, 0, 0, 0, 1, 0, 0, 0, 1, 1, 0, 0, 1, 0, 1, 1, 0, 0, 0, 0, 0,\n",
              "       0, 0, 0, 0, 1, 1, 1, 0, 1, 1, 0, 1, 0, 0, 0, 1, 0, 0, 0, 0, 1, 1,\n",
              "       1, 0, 0, 0, 1, 1, 0, 1, 0, 1, 0, 1, 1, 0, 1, 0, 1, 0, 0, 0, 0, 1,\n",
              "       1, 0, 0, 0, 0, 1, 0, 0, 0, 1, 1, 1, 0, 0, 0, 0, 1, 1, 0, 0, 0, 0,\n",
              "       0, 0, 0, 0, 0, 1, 0, 0, 1, 0, 0, 1, 1, 0, 0, 1, 1, 1, 0, 1, 1, 0,\n",
              "       1, 1, 0, 0, 0, 1, 1, 0, 0, 0, 0, 0, 1, 1, 0, 1, 0, 0, 1, 0, 0, 1,\n",
              "       1, 1, 1, 1, 0, 1, 1, 0, 1, 0, 1, 0, 1, 1, 0, 0, 1, 1, 1, 1, 0, 0,\n",
              "       1, 1, 0, 0, 1, 0, 0, 0, 1, 0, 0, 0, 1, 0, 0, 1, 1, 0, 0, 0, 1, 1,\n",
              "       0, 0, 0, 1, 0, 0, 1, 0, 1, 1, 1, 1, 0, 0, 1, 1, 0, 0, 1, 0, 1, 1,\n",
              "       1, 1, 0, 1, 0, 1, 0, 0, 1, 0, 0, 0, 0, 0, 0, 1, 0, 0, 0, 1, 0, 0,\n",
              "       1, 1, 0, 1, 1, 1, 0, 1, 0, 1, 0, 0, 0, 1, 1, 0, 1, 1, 0, 0, 0, 0,\n",
              "       0, 0, 0, 0, 0, 0, 1, 1, 0, 1, 1, 0, 0, 0, 0, 1, 1, 0, 0, 1, 1, 0,\n",
              "       0, 1, 0, 1, 0, 0, 0, 0, 0, 0, 1, 0, 0, 0, 0, 0, 0, 0, 0, 1, 0, 1,\n",
              "       0, 1, 0, 0, 0, 0, 0, 0, 1, 0, 1, 0, 1, 0, 1, 1, 0, 1, 0, 1, 1, 1,\n",
              "       0, 0, 0, 0, 0, 0, 0, 0, 0, 0, 1, 1, 1, 0, 0, 1, 0, 0, 1, 0, 0, 1,\n",
              "       0, 1, 1, 0, 1, 1, 1, 0, 0, 1, 0, 0, 0, 1, 0, 1, 1, 0, 0, 0, 0, 0,\n",
              "       1, 0, 0, 0, 0, 0, 0, 0, 0, 0, 0, 0, 0, 1, 1, 0, 0, 0, 0, 0, 0, 1,\n",
              "       1, 0, 0, 1, 1, 0, 1, 0, 1, 0, 0, 0, 1, 1, 1, 0, 1, 0, 1, 0, 0, 0,\n",
              "       1, 1, 1, 0, 0, 0, 1, 1, 0, 0, 1, 0, 1, 0, 0, 0, 1, 1, 0, 0, 1, 0,\n",
              "       1, 0, 1, 1, 1, 1, 1, 0, 0, 1, 0, 0, 0, 1, 0, 1, 0, 1, 0, 1, 1, 0,\n",
              "       0, 0, 0, 1, 0, 0, 0, 0, 1, 1, 0, 0, 0, 0, 1, 0, 0, 0, 0, 0, 1, 0,\n",
              "       1, 0, 0, 1, 1, 1, 0, 0, 0, 0, 1, 0, 0, 1, 0, 0, 0, 0, 1, 0, 1, 0,\n",
              "       1, 0, 1, 0, 0, 0, 1, 0, 1, 0, 0, 1, 0, 0, 0, 0, 0, 0, 0, 1, 0, 1,\n",
              "       0, 0, 0, 0, 1, 0, 1, 1, 0, 1, 1, 1, 1, 1, 1, 0, 0, 1, 1, 0, 0, 0,\n",
              "       1, 0, 1, 0, 0, 0, 0, 0, 0, 1, 1, 0, 1, 0, 0, 0, 1, 0, 0, 1, 1, 0,\n",
              "       0, 0, 1, 1, 0, 0, 0, 0, 0, 0, 1, 0, 0, 0, 1, 0, 0, 1, 0, 1, 1, 1,\n",
              "       0, 0, 0, 0, 0, 1, 1, 1, 1, 1, 0, 0, 0, 1, 1, 1, 1, 1, 0, 0, 1, 1,\n",
              "       0, 1, 0, 0, 0, 0, 1, 0, 0, 0, 0, 0, 0, 1, 0, 1, 0, 0, 1, 0, 0, 0,\n",
              "       0, 0, 0, 1, 1, 1, 1, 0, 0, 0, 1, 0, 0, 0, 1, 1, 0, 0, 1, 0, 0, 1,\n",
              "       1, 0, 0, 1, 1, 0, 0, 0, 1, 1, 1, 1, 0, 0, 0, 1, 1, 0, 0, 1, 1, 1,\n",
              "       1, 0, 0, 0, 0, 0, 1, 1, 0, 0, 0, 1, 1, 1, 0, 0, 0, 0, 0, 0, 0, 1,\n",
              "       0, 1, 0, 0, 0, 1, 1, 0, 0, 1, 0, 0, 0, 0, 1, 1, 0, 0, 1, 0, 0, 1])"
            ]
          },
          "metadata": {
            "tags": []
          },
          "execution_count": 49
        }
      ]
    },
    {
      "cell_type": "code",
      "metadata": {
        "id": "PiRbK4OXxxfg",
        "colab": {
          "base_uri": "https://localhost:8080/"
        },
        "outputId": "7a2d776d-59d6-43b7-a867-d850721f1f0f"
      },
      "source": [
        "Ans"
      ],
      "execution_count": null,
      "outputs": [
        {
          "output_type": "execute_result",
          "data": {
            "text/plain": [
              "array([0, 1, 0, 0, 1, 0, 0, 1, 1, 1, 0, 1, 1, 1, 0, 0, 0, 0, 1, 0, 1, 0,\n",
              "       0, 0, 1, 1, 1, 1, 0, 1, 1, 1, 0, 0, 0, 1, 1, 0, 0, 0, 0, 0, 1, 0,\n",
              "       1, 0, 1, 0, 0, 1, 0, 1, 0, 1, 0, 0, 0, 0, 1, 0, 1, 0, 0, 1, 0, 1,\n",
              "       0, 0, 1, 1, 1, 0, 0, 0, 0, 1, 0, 1, 0, 0, 0, 1, 0, 0, 0, 0, 0, 0,\n",
              "       0, 1, 1, 0, 1, 0, 1, 0, 1, 0, 0, 1, 1, 0, 0, 0, 0, 1, 1, 0, 1, 0,\n",
              "       0, 1, 0, 0, 0, 1, 0, 0, 0, 0, 0, 1, 1, 1, 1, 1, 0, 1, 0, 1, 0, 1,\n",
              "       1, 1, 0, 1, 0, 0, 0, 0, 1, 1, 0, 0, 0, 0, 0, 1, 1, 1, 0, 1, 1, 0,\n",
              "       0, 0, 1, 0, 0, 1, 1, 0, 0, 1, 0, 0, 0, 0, 0, 1, 0, 0, 0, 0, 1, 1,\n",
              "       1, 0, 0, 0, 0, 0, 1, 0, 0, 0, 0, 1, 0, 0, 1, 0, 0, 0, 0, 1, 1, 0,\n",
              "       0, 0, 1, 1, 0, 0, 0, 0, 0, 0, 0, 0, 0, 1, 0, 1, 0, 0, 1, 1, 0, 0,\n",
              "       0, 0, 1, 1, 1, 0, 1, 0, 0, 0, 0, 0, 0, 1, 1, 0, 1, 1, 0, 1, 0, 1,\n",
              "       0, 0, 1, 1, 1, 1, 1, 1, 0, 0, 0, 0, 1, 0, 0, 0, 1, 1, 1, 1, 0, 0,\n",
              "       1, 1, 0, 1, 1, 0, 1, 1, 0, 1, 0, 0, 0, 1, 0, 1, 1, 0, 0, 1, 1, 0,\n",
              "       0, 0, 0, 0, 0, 1, 0, 0, 0, 1, 1, 0, 0, 1, 0, 1, 1, 0, 0, 0, 0, 0,\n",
              "       0, 0, 0, 0, 1, 1, 1, 0, 1, 1, 0, 1, 0, 0, 0, 1, 0, 0, 0, 0, 1, 1,\n",
              "       1, 0, 0, 0, 1, 1, 0, 1, 0, 1, 0, 1, 1, 0, 1, 0, 1, 0, 0, 0, 0, 1,\n",
              "       1, 0, 0, 0, 0, 1, 0, 0, 0, 1, 1, 1, 0, 0, 0, 0, 1, 1, 0, 0, 0, 0,\n",
              "       0, 0, 0, 0, 0, 1, 0, 0, 1, 0, 0, 1, 1, 0, 0, 1, 1, 1, 0, 1, 1, 0,\n",
              "       1, 1, 0, 0, 0, 1, 1, 0, 0, 0, 0, 0, 1, 1, 0, 1, 0, 0, 1, 0, 0, 1,\n",
              "       1, 1, 1, 1, 0, 1, 1, 0, 1, 0, 1, 0, 1, 1, 0, 0, 1, 1, 1, 1, 0, 0,\n",
              "       1, 1, 0, 0, 1, 0, 0, 0, 1, 0, 0, 0, 1, 0, 0, 1, 1, 0, 0, 0, 1, 1,\n",
              "       0, 0, 0, 1, 0, 0, 1, 0, 1, 1, 1, 1, 0, 0, 1, 1, 0, 0, 1, 0, 1, 1,\n",
              "       1, 1, 0, 1, 0, 1, 0, 0, 1, 0, 0, 0, 0, 0, 0, 1, 0, 0, 0, 1, 0, 0,\n",
              "       1, 1, 0, 1, 1, 1, 0, 1, 0, 1, 0, 0, 0, 1, 1, 0, 1, 1, 0, 0, 0, 0,\n",
              "       0, 0, 0, 0, 0, 0, 1, 1, 0, 1, 1, 0, 0, 0, 0, 1, 1, 0, 0, 1, 1, 0,\n",
              "       0, 1, 0, 1, 0, 0, 0, 0, 0, 0, 1, 0, 0, 0, 0, 0, 0, 0, 0, 1, 0, 1,\n",
              "       0, 1, 0, 0, 0, 0, 0, 0, 1, 0, 1, 0, 1, 0, 1, 1, 0, 1, 0, 1, 1, 1,\n",
              "       0, 0, 0, 0, 0, 0, 0, 0, 0, 0, 1, 1, 1, 0, 0, 1, 0, 0, 1, 0, 0, 1,\n",
              "       0, 1, 1, 0, 1, 1, 1, 0, 0, 1, 0, 0, 0, 1, 0, 1, 1, 0, 0, 0, 0, 0,\n",
              "       1, 0, 0, 0, 0, 0, 0, 0, 0, 0, 0, 0, 0, 1, 1, 0, 0, 0, 0, 0, 0, 1,\n",
              "       1, 0, 0, 1, 1, 0, 1, 0, 1, 0, 0, 0, 1, 1, 1, 0, 1, 0, 1, 0, 0, 0,\n",
              "       1, 1, 1, 0, 0, 0, 1, 1, 0, 0, 1, 0, 1, 0, 0, 0, 1, 1, 0, 0, 1, 0,\n",
              "       1, 0, 1, 1, 1, 1, 1, 0, 0, 1, 0, 0, 0, 1, 0, 1, 0, 1, 0, 1, 1, 0,\n",
              "       0, 0, 0, 1, 0, 0, 0, 0, 1, 1, 0, 0, 0, 0, 1, 0, 0, 0, 0, 0, 1, 0,\n",
              "       1, 0, 0, 1, 1, 1, 0, 0, 0, 0, 1, 0, 0, 1, 0, 0, 0, 0, 1, 0, 1, 0,\n",
              "       1, 0, 1, 0, 0, 0, 1, 0, 1, 0, 0, 1, 0, 0, 0, 0, 0, 0, 0, 1, 0, 1,\n",
              "       0, 0, 0, 0, 1, 0, 1, 1, 0, 1, 1, 1, 1, 1, 1, 0, 0, 1, 1, 0, 0, 0,\n",
              "       1, 0, 1, 0, 0, 0, 0, 0, 0, 1, 1, 0, 1, 0, 0, 0, 1, 0, 0, 1, 1, 0,\n",
              "       0, 0, 1, 1, 0, 0, 0, 0, 0, 0, 1, 0, 0, 0, 1, 0, 0, 1, 0, 1, 1, 1,\n",
              "       0, 0, 0, 0, 0, 1, 1, 1, 1, 1, 0, 0, 0, 1, 1, 1, 1, 1, 0, 0, 1, 1,\n",
              "       0, 1, 0, 0, 0, 0, 1, 0, 0, 0, 0, 0, 0, 1, 0, 1, 0, 0, 1, 0, 0, 0,\n",
              "       0, 0, 0, 1, 1, 1, 1, 0, 0, 0, 1, 0, 0, 0, 1, 1, 0, 0, 1, 0, 0, 1,\n",
              "       1, 0, 0, 1, 1, 0, 0, 0, 1, 1, 1, 1, 0, 0, 0, 1, 1, 0, 0, 1, 1, 1,\n",
              "       1, 0, 0, 0, 0, 0, 1, 1, 0, 0, 0, 1, 1, 1, 0, 0, 0, 0, 0, 0, 0, 1,\n",
              "       0, 1, 0, 0, 0, 1, 1, 0, 0, 1, 0, 0, 0, 0, 1, 1, 0, 0, 1, 0, 0, 1])"
            ]
          },
          "metadata": {
            "tags": []
          },
          "execution_count": 50
        }
      ]
    },
    {
      "cell_type": "code",
      "metadata": {
        "id": "M3q0BCSijCzp"
      },
      "source": [
        "# df['stroke']= df['stroke'].astype('int')"
      ],
      "execution_count": null,
      "outputs": []
    },
    {
      "cell_type": "code",
      "metadata": {
        "id": "yU2wW3Amkk8o"
      },
      "source": [
        "# df.to_csv(\"/content/drive/My Drive/Dataset/TubesDSC/submitML.csv\",index=False)"
      ],
      "execution_count": null,
      "outputs": []
    }
  ]
}